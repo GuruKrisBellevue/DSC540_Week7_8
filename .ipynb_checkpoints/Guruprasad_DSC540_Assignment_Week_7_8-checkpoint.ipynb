{
 "cells": [
  {
   "cell_type": "markdown",
   "id": "2e4ba8a1",
   "metadata": {
    "toc": true
   },
   "source": [
    "<h1>Table of Contents<span class=\"tocSkip\"></span></h1>\n",
    "<div class=\"toc\"><ul class=\"toc-item\"><li><span><a href=\"#DSC540-Weeks-7-&amp;-8-Assignment\" data-toc-modified-id=\"DSC540-Weeks-7-&amp;-8-Assignment-1\">DSC540 Weeks 7 &amp; 8 Assignment</a></span></li><li><span><a href=\"#1.Activity-9:-Extracting-top-100-eBooks-from-Gutenberg\" data-toc-modified-id=\"1.Activity-9:-Extracting-top-100-eBooks-from-Gutenberg-2\">1.Activity 9: Extracting top 100 eBooks from Gutenberg</a></span><ul class=\"toc-item\"><li><ul class=\"toc-item\"><li><span><a href=\"#1.Import-the-required-libraries-(completed-in-above-step)\" data-toc-modified-id=\"1.Import-the-required-libraries-(completed-in-above-step)-2.0.1\">1.Import the required libraries (completed in above step)</a></span></li><li><span><a href=\"#2.-Check-the-SSL-certificate\" data-toc-modified-id=\"2.-Check-the-SSL-certificate-2.0.2\">2. Check the SSL certificate</a></span></li><li><span><a href=\"#3.-Read-the-HTML-from-the-URL\" data-toc-modified-id=\"3.-Read-the-HTML-from-the-URL-2.0.3\">3. Read the HTML from the URL</a></span></li><li><span><a href=\"#4.-Function-to-check-the-status-of-web-request\" data-toc-modified-id=\"4.-Function-to-check-the-status-of-web-request-2.0.4\">4. Function to check the status of web request</a></span></li><li><span><a href=\"#5.-Decode-the-response-and-pass-this-to-BeautifulSoup-for-HTML-parsing\" data-toc-modified-id=\"5.-Decode-the-response-and-pass-this-to-BeautifulSoup-for-HTML-parsing-2.0.5\">5. Decode the response and pass this to BeautifulSoup for HTML parsing</a></span></li><li><span><a href=\"#6.-Find-all-href-tags-and-store-them-in-list-of-links.-Check-what-the-list-looks---print-first-30-elements\" data-toc-modified-id=\"6.-Find-all-href-tags-and-store-them-in-list-of-links.-Check-what-the-list-looks---print-first-30-elements-2.0.6\">6. Find all href tags and store them in list of links. Check what the list looks - print first 30 elements</a></span></li><li><span><a href=\"#7.-Use-regular-expression-to-find-the-numeric-digits-in-the-links.-These-are-the-file-numbers-for-the-top-100-eBooks\" data-toc-modified-id=\"7.-Use-regular-expression-to-find-the-numeric-digits-in-the-links.-These-are-the-file-numbers-for-the-top-100-eBooks-2.0.7\">7. Use regular expression to find the numeric digits in the links. These are the file numbers for the top 100 eBooks</a></span></li><li><span><a href=\"#8.-Initialize-an-empty-list-to-hold-file-numbers-over-an-appropritate-range-and-use-regex-to-find-the-numeric-digits-in-the-link-href-string.-Use-findall-method\" data-toc-modified-id=\"8.-Initialize-an-empty-list-to-hold-file-numbers-over-an-appropritate-range-and-use-regex-to-find-the-numeric-digits-in-the-link-href-string.-Use-findall-method-2.0.8\">8. Initialize an empty list to hold file numbers over an appropritate range and use regex to find the numeric digits in the link href string. Use findall method</a></span></li><li><span><a href=\"#9.-What-does-the-soup-object's-text-look-like?-Print-first-2000-characters\" data-toc-modified-id=\"9.-What-does-the-soup-object's-text-look-like?-Print-first-2000-characters-2.0.9\">9. What does the soup object's text look like? Print first 2000 characters</a></span></li><li><span><a href=\"#10.-Search-in-the-extracted-text-from-the-soup-object-to-find-names-of-the-top-100-eBooks(yesterday's-Ranking)\" data-toc-modified-id=\"10.-Search-in-the-extracted-text-from-the-soup-object-to-find-names-of-the-top-100-eBooks(yesterday's-Ranking)-2.0.10\">10. Search in the extracted text from the soup object to find names of the top 100 eBooks(yesterday's Ranking)</a></span></li><li><span><a href=\"#11.-Create-a-starting-index.-It-should-point-to-the-text-.-Use-the-splitlines-method-of-soup.text\" data-toc-modified-id=\"11.-Create-a-starting-index.-It-should-point-to-the-text-.-Use-the-splitlines-method-of-soup.text-2.0.11\">11. Create a starting index. It should point to the text . Use the splitlines method of soup.text</a></span></li><li><span><a href=\"#12.-Loop-1-100-to-add-the-strings-of-the-next-100-lines-to-this-temporary-list\" data-toc-modified-id=\"12.-Loop-1-100-to-add-the-strings-of-the-next-100-lines-to-this-temporary-list-2.0.12\">12. Loop 1-100 to add the strings of the next 100 lines to this temporary list</a></span></li><li><span><a href=\"#13.-Create-a-Regular-Expression-to-extract-only-the-text-from-name-strings-and-append-to-the-list\" data-toc-modified-id=\"13.-Create-a-Regular-Expression-to-extract-only-the-text-from-name-strings-and-append-to-the-list-2.0.13\">13. Create a Regular Expression to extract only the text from name strings and append to the list</a></span></li></ul></li></ul></li><li><span><a href=\"#2.-Activity-10\" data-toc-modified-id=\"2.-Activity-10-3\">2. Activity 10</a></span><ul class=\"toc-item\"><li><ul class=\"toc-item\"><li><span><a href=\"#1.-Import-the-Libraries-(-This-is--complete-in-the-first-step)\" data-toc-modified-id=\"1.-Import-the-Libraries-(-This-is--complete-in-the-first-step)-3.0.1\">1. Import the Libraries ( This is  complete in the first step)</a></span></li><li><span><a href=\"#2.-Load-the-API-key-and-store-in-a-variable-using-json.loads\" data-toc-modified-id=\"2.-Load-the-API-key-and-store-in-a-variable-using-json.loads-3.0.2\">2. Load the API key and store in a variable using json.loads</a></span></li><li><span><a href=\"#3.-Obtain-a-key-and-store-it-in-a-JSON-in-APIkeys.json\" data-toc-modified-id=\"3.-Obtain-a-key-and-store-it-in-a-JSON-in-APIkeys.json-3.0.3\">3. Obtain a key and store it in a JSON in APIkeys.json</a></span></li><li><span><a href=\"#4.-Open-the-APIkeys.json-file\" data-toc-modified-id=\"4.-Open-the-APIkeys.json-file-3.0.4\">4. Open the APIkeys.json file</a></span></li><li><span><a href=\"#5.-Assign-the-OMDB-Portal-as-a-string-to-a-variable\" data-toc-modified-id=\"5.-Assign-the-OMDB-Portal-as-a-string-to-a-variable-3.0.5\">5. Assign the OMDB Portal as a string to a variable</a></span></li><li><span><a href=\"#6.-Create-a-variable-called-apikey\" data-toc-modified-id=\"6.-Create-a-variable-called-apikey-3.0.6\">6. Create a variable called apikey</a></span></li><li><span><a href=\"#7.-Write-a-utility-function-called-print_json-to-print-the-movie-data-from-a-JSON-File\" data-toc-modified-id=\"7.-Write-a-utility-function-called-print_json-to-print-the-movie-data-from-a-JSON-File-3.0.7\">7. Write a utility function called print_json to print the movie data from a JSON File</a></span></li><li><span><a href=\"#8.-Write-a-function-to-download-the-Poster-of-the-movie\" data-toc-modified-id=\"8.-Write-a-function-to-download-the-Poster-of-the-movie-3.0.8\">8. Write a function to download the Poster of the movie</a></span></li><li><span><a href=\"#9.-Write-a-utility-function-to-search-for-a-movie-by-its-name\" data-toc-modified-id=\"9.-Write-a-utility-function-to-search-for-a-movie-by-its-name-3.0.9\">9. Write a utility function to search for a movie by its name</a></span></li><li><span><a href=\"#10.-Test-the-search_movie-with-&quot;Titanic&quot;\" data-toc-modified-id=\"10.-Test-the-search_movie-with-&quot;Titanic&quot;-3.0.10\">10. Test the search_movie with \"Titanic\"</a></span></li><li><span><a href=\"#11.-Test-the-search_movie-with-&quot;Random_error&quot;\" data-toc-modified-id=\"11.-Test-the-search_movie-with-&quot;Random_error&quot;-3.0.11\">11. Test the search_movie with \"Random_error\"</a></span></li></ul></li></ul></li><li><span><a href=\"#3.--Connect-to-an-API-of-your-choice-and-do-a-simple-data-pull\" data-toc-modified-id=\"3.--Connect-to-an-API-of-your-choice-and-do-a-simple-data-pull-4\">3.  Connect to an API of your choice and do a simple data pull</a></span></li><li><span><a href=\"#4.Plot-Visualizations\" data-toc-modified-id=\"4.Plot-Visualizations-5\">4.Plot Visualizations</a></span><ul class=\"toc-item\"><li><ul class=\"toc-item\"><li><span><a href=\"#In-this-exercise,-I'm-using-the-dataset-Electric_Vehicle_Population_Size_History_By_County-to-plot-visualizations-on-it.\" data-toc-modified-id=\"In-this-exercise,-I'm-using-the-dataset-Electric_Vehicle_Population_Size_History_By_County-to-plot-visualizations-on-it.-5.0.1\">In this exercise, I'm using the dataset Electric_Vehicle_Population_Size_History_By_County to plot visualizations on it.</a></span></li><li><span><a href=\"#Source:-https://catalog.data.gov/dataset/electric-vehicle-population-size-history-by-county\" data-toc-modified-id=\"Source:-https://catalog.data.gov/dataset/electric-vehicle-population-size-history-by-county-5.0.2\">Source: <a href=\"https://catalog.data.gov/dataset/electric-vehicle-population-size-history-by-county\" rel=\"nofollow\" target=\"_blank\">https://catalog.data.gov/dataset/electric-vehicle-population-size-history-by-county</a></a></span></li><li><span><a href=\"#4.1.-Line-plot-using-Matplotlib\" data-toc-modified-id=\"4.1.-Line-plot-using-Matplotlib-5.0.3\">4.1. Line plot using Matplotlib</a></span></li><li><span><a href=\"#4.2.-Bar-Chart--using-Matplotlib\" data-toc-modified-id=\"4.2.-Bar-Chart--using-Matplotlib-5.0.4\">4.2. Bar Chart  using Matplotlib</a></span></li><li><span><a href=\"#4.3.-Pie-Chart\" data-toc-modified-id=\"4.3.-Pie-Chart-5.0.5\">4.3. Pie Chart</a></span></li><li><span><a href=\"#4.4.-Histogram\" data-toc-modified-id=\"4.4.-Histogram-5.0.6\">4.4. Histogram</a></span></li></ul></li></ul></li></ul></div>"
   ]
  },
  {
   "cell_type": "markdown",
   "id": "e7c22adf",
   "metadata": {},
   "source": [
    "# Guruprasad Velikadu Krishnamoorthy\n",
    "\n",
    "##  DSC540 Weeks 7 & 8 Assignment"
   ]
  },
  {
   "cell_type": "code",
   "execution_count": 1,
   "id": "fe5d25d0",
   "metadata": {},
   "outputs": [],
   "source": [
    "# Loading the libraries\n",
    "import pandas as pd\n",
    "import numpy as np\n",
    "from matplotlib import pyplot as plt\n",
    "import os\n",
    "import re\n",
    "from datetime import datetime\n",
    "from bs4 import BeautifulSoup\n",
    "import requests\n",
    "import urllib.request,urllib.parse,urllib.error\n",
    "import ssl\n",
    "import json"
   ]
  },
  {
   "cell_type": "code",
   "execution_count": 2,
   "id": "1708f31f",
   "metadata": {},
   "outputs": [
    {
     "data": {
      "text/plain": [
       "<Figure size 2000x1500 with 0 Axes>"
      ]
     },
     "execution_count": 2,
     "metadata": {},
     "output_type": "execute_result"
    },
    {
     "data": {
      "text/plain": [
       "<Figure size 2000x1500 with 0 Axes>"
      ]
     },
     "metadata": {},
     "output_type": "display_data"
    }
   ],
   "source": [
    "# Setting global options for the notebook \n",
    "pd.set_option('display.max_columns', 50)\n",
    "pd.set_option('display.max_colwidth', None)\n",
    "pd.set_option(\"display.max_rows\", 100)\n",
    "import warnings\n",
    "warnings.filterwarnings('ignore')\n",
    "plt.figure(figsize=(20, 15))"
   ]
  },
  {
   "cell_type": "markdown",
   "id": "9670f591",
   "metadata": {},
   "source": [
    "## 1.Activity 9: Extracting top 100 eBooks from Gutenberg"
   ]
  },
  {
   "cell_type": "markdown",
   "id": "2ea14e4d",
   "metadata": {},
   "source": [
    "#### 1.Import the required libraries (completed in above step)"
   ]
  },
  {
   "cell_type": "markdown",
   "id": "74909666",
   "metadata": {},
   "source": [
    "#### 2. Check the SSL certificate"
   ]
  },
  {
   "cell_type": "code",
   "execution_count": 3,
   "id": "d68ea907",
   "metadata": {},
   "outputs": [],
   "source": [
    "# the default context does certificate verification, hostname verification \n",
    "cert=ssl.create_default_context()\n",
    "# As default hostname verification is enabled we set check_hostname to False\n",
    "cert.check_hostname=False\n",
    "# The server does not request any certificate from Client side. Hence CERT_NONE is chosen.\n",
    "# Available options are : CERT_NONE, CERT_OPTIONAL, CERT_REQUIRED\n",
    "cert.verify_mode=ssl.CERT_NONE"
   ]
  },
  {
   "cell_type": "markdown",
   "id": "0efe47b5",
   "metadata": {},
   "source": [
    "#### 3. Read the HTML from the URL"
   ]
  },
  {
   "cell_type": "code",
   "execution_count": 4,
   "id": "54e1e38a",
   "metadata": {},
   "outputs": [],
   "source": [
    "# Assigning the top 100 URL to a variable\n",
    "guten_top_url=\"https://www.gutenberg.org/browse/scores/top\"\n",
    "# Getting the response using Requests module and get method\n",
    "guten_top_resp=requests.get(guten_top_url)"
   ]
  },
  {
   "cell_type": "markdown",
   "id": "60009b2e",
   "metadata": {},
   "source": [
    "#### 4. Function to check the status of web request"
   ]
  },
  {
   "cell_type": "code",
   "execution_count": 5,
   "id": "a4b24478",
   "metadata": {},
   "outputs": [],
   "source": [
    "def check_status_rqst(resp):\n",
    "    \"\"\"\n",
    "    This function checks the status code of the response from web. \n",
    "    If the status is 200, prints success, else prints error .\n",
    "    \"\"\"\n",
    "    # Status code response 200 means success\n",
    "    if resp.status_code==200:\n",
    "        print(\"Request Response successfully received\")\n",
    "        return 1\n",
    "    # Any other response code indicates error. Returns \"-1\" and prints error\n",
    "    else:\n",
    "        print(\"Request Response Failed\")\n",
    "        return -1"
   ]
  },
  {
   "cell_type": "code",
   "execution_count": 6,
   "id": "75698464",
   "metadata": {},
   "outputs": [
    {
     "name": "stdout",
     "output_type": "stream",
     "text": [
      "Request Response successfully received\n"
     ]
    },
    {
     "data": {
      "text/plain": [
       "1"
      ]
     },
     "execution_count": 6,
     "metadata": {},
     "output_type": "execute_result"
    }
   ],
   "source": [
    "# Validating the response from Gutenberg URL\n",
    "check_status_rqst(guten_top_resp)"
   ]
  },
  {
   "cell_type": "markdown",
   "id": "92ed5461",
   "metadata": {},
   "source": [
    "#### 5. Decode the response and pass this to BeautifulSoup for HTML parsing"
   ]
  },
  {
   "cell_type": "code",
   "execution_count": 7,
   "id": "7f2d7422",
   "metadata": {},
   "outputs": [],
   "source": [
    "def get_encoding(resp):\n",
    "    \"\"\"\n",
    "    This function returns the encoding type of the response from web page\n",
    "    \"\"\"\n",
    "    return resp.encoding\n",
    "def decode_resp(resp,encoding_type):\n",
    "    \"\"\"\n",
    "    This function returns the decoded value of the response from the web page.\n",
    "    It takes the response and the encoding type as inputs\n",
    "    \"\"\"\n",
    "    return resp.content.decode(encoding_type)"
   ]
  },
  {
   "cell_type": "code",
   "execution_count": 8,
   "id": "ee68f6fb",
   "metadata": {},
   "outputs": [],
   "source": [
    "# Getting the encode type of the Gutenberg response by using get_encoding function\n",
    "encoding_type=get_encoding(guten_top_resp)\n",
    "# Decoding the web response by passing the encoding type and encoded response\n",
    "guten_contents=decode_resp(guten_top_resp,encoding_type)\n",
    "# Creating a BreautifulSoup object by passing the decoded contents.\n",
    "soup1=BeautifulSoup(guten_contents,'html.parser')"
   ]
  },
  {
   "cell_type": "markdown",
   "id": "168c0bc8",
   "metadata": {},
   "source": [
    "#### 6. Find all href tags and store them in list of links. Check what the list looks - print first 30 elements"
   ]
  },
  {
   "cell_type": "code",
   "execution_count": 9,
   "id": "0031b69e",
   "metadata": {},
   "outputs": [
    {
     "name": "stdout",
     "output_type": "stream",
     "text": [
      "<!DOCTYPE html>\n",
      "<html class=\"client-nojs\" dir=\"ltr\" lang=\"en\">\n",
      " <head>\n",
      "  <meta charset=\"utf-8\"/>\n",
      "  <title>\n",
      "   Top 100 | Project Gutenberg\n",
      "  </title>\n",
      "  <link href=\"/gutenberg/style.css?v=1.1\" rel=\"stylesheet\"/>\n",
      "  <link href=\"/gutenberg/collapsible.css?1.1\" rel=\"stylesheet\"/>\n",
      "  <link href=\"/gutenberg/new_nav.css?v=1.321231\" rel=\"stylesheet\"/>\n",
      "  <link href=\"/gutenberg/pg-desktop-one.css\" rel=\"stylesheet\"/>\n",
      "  <meta content=\"width=device-width, initial-scale=1\" name=\"viewport\"/>\n",
      "  <meta content=\"book\n"
     ]
    }
   ],
   "source": [
    "# Printing the first 500 characters of Beautiful soup object\n",
    "print(soup1.prettify()[:500])"
   ]
  },
  {
   "cell_type": "code",
   "execution_count": 10,
   "id": "2b0adf43",
   "metadata": {},
   "outputs": [],
   "source": [
    "# Creating an empty list to capture all the href links\n",
    "href_list=[]\n",
    "# the href tags are present in the anchor tag objects. Hence searching for \"a\" and storing them in variable\n",
    "all_Anchors=soup1.find_all('a')\n",
    "# Looping through each anchor tag object and extracting the href information using get method\n",
    "for ref in all_Anchors:\n",
    "    href_list.append(ref.get(\"href\"))\n"
   ]
  },
  {
   "cell_type": "code",
   "execution_count": 11,
   "id": "0ebacb80",
   "metadata": {},
   "outputs": [
    {
     "data": {
      "text/plain": [
       "['/',\n",
       " '/about/',\n",
       " '/about/',\n",
       " '/policy/collection_development.html',\n",
       " '/about/contact_information.html',\n",
       " '/about/background/',\n",
       " '/policy/permission.html',\n",
       " '/policy/privacy_policy.html',\n",
       " '/policy/terms_of_use.html',\n",
       " '/ebooks/',\n",
       " '/ebooks/',\n",
       " '/ebooks/bookshelf/',\n",
       " '/browse/scores/top',\n",
       " '/ebooks/offline_catalogs.html',\n",
       " '/help/',\n",
       " '/help/',\n",
       " '/help/copyright.html',\n",
       " '/help/errata.html',\n",
       " '/help/file_formats.html',\n",
       " '/help/faq.html',\n",
       " '/policy/',\n",
       " '/help/public_domain_ebook_submission.html',\n",
       " '/help/submitting_your_own_work.html',\n",
       " '/help/mobile.html',\n",
       " '/attic/',\n",
       " '/donate/',\n",
       " '/donate/',\n",
       " '#books-last1',\n",
       " '#authors-last1',\n",
       " '#books-last7']"
      ]
     },
     "execution_count": 11,
     "metadata": {},
     "output_type": "execute_result"
    }
   ],
   "source": [
    "# Print the top 30 href tag elements \n",
    "href_list[:30]"
   ]
  },
  {
   "cell_type": "markdown",
   "id": "7075da9e",
   "metadata": {},
   "source": [
    "#### 7. Use regular expression to find the numeric digits in the links. These are the file numbers for the top 100 eBooks"
   ]
  },
  {
   "cell_type": "code",
   "execution_count": 12,
   "id": "f3bc5d9f",
   "metadata": {},
   "outputs": [
    {
     "name": "stdout",
     "output_type": "stream",
     "text": [
      "There are 100 Books in the list file_nums1\n"
     ]
    },
    {
     "data": {
      "text/plain": [
       "['1513',\n",
       " '2701',\n",
       " '2641',\n",
       " '145',\n",
       " '37106',\n",
       " '100',\n",
       " '67979',\n",
       " '16389',\n",
       " '394',\n",
       " '6761']"
      ]
     },
     "execution_count": 12,
     "metadata": {},
     "output_type": "execute_result"
    }
   ],
   "source": [
    "# Creating a regex pattern to find the numbers in the string\n",
    "pattern1=re.compile(r'[0-9]+')\n",
    "# creating an empty list to capture the file numbers\n",
    "file_nums1=[]\n",
    "# As the eBooks file numbers start from 34th index we read the 100 file numbers of ebooks starting from index 34.\n",
    "for book in href_list[33:133]:\n",
    "    # If the pattern does not match in the href extracted, it is skipped.\n",
    "    if pattern1.search(book)==None:\n",
    "        continue\n",
    "    # If the href contains the number, the file numbers are extracted\n",
    "    else:\n",
    "        file_nums1.append(pattern1.search(book).group())\n",
    "# Printing the number of eBook file numbers extracted and printing top 10\n",
    "print(f\"There are {len(file_nums1)} Books in the list file_nums1\")\n",
    "file_nums1[:10]"
   ]
  },
  {
   "cell_type": "markdown",
   "id": "9d8206f1",
   "metadata": {},
   "source": [
    "#### 8. Initialize an empty list to hold file numbers over an appropritate range and use regex to find the numeric digits in the link href string. Use findall method"
   ]
  },
  {
   "cell_type": "code",
   "execution_count": 13,
   "id": "a6611f54",
   "metadata": {},
   "outputs": [
    {
     "name": "stdout",
     "output_type": "stream",
     "text": [
      "There are 100 Books in the list file_nums2\n"
     ]
    },
    {
     "data": {
      "text/plain": [
       "[1513, 2701, 2641, 145, 37106, 100, 67979, 16389, 394, 6761]"
      ]
     },
     "execution_count": 13,
     "metadata": {},
     "output_type": "execute_result"
    }
   ],
   "source": [
    "# creating an empty list to store the file numbers of eBooks\n",
    "file_nums2=[]\n",
    "# As the eBooks starts from index 34, searching for 100 elements from index 33\n",
    "for book in href_list[33:133]:\n",
    "    # Using findall method to identify pattern in the href tag\n",
    "    nbrs=re.findall(pattern1,book)\n",
    "    # If a match is found, the numbers are extracted and added to the list\n",
    "    if len(nbrs)>0:\n",
    "        file_nums2.append(int(nbrs[0]))\n",
    "# Printing the number of eBook file numbers extracted and printing top 10\n",
    "print(f\"There are {len(file_nums2)} Books in the list file_nums2\")\n",
    "file_nums2[:10]"
   ]
  },
  {
   "cell_type": "markdown",
   "id": "80f2afa2",
   "metadata": {},
   "source": [
    "#### 9. What does the soup object's text look like? Print first 2000 characters"
   ]
  },
  {
   "cell_type": "code",
   "execution_count": 14,
   "id": "5106bb92",
   "metadata": {},
   "outputs": [
    {
     "name": "stdout",
     "output_type": "stream",
     "text": [
      "\n",
      "\n",
      "\n",
      "\n",
      "Top 100 | Project Gutenberg\n",
      "\n",
      "\n",
      "\n",
      "\n",
      "\n",
      "\n",
      "\n",
      "\n",
      "\n",
      "\n",
      "\n",
      "\n",
      "\n",
      "\n",
      "\n",
      "\n",
      "\n",
      "\n",
      "\n",
      "\n",
      "\n",
      "\n",
      "\n",
      "\n",
      "\n",
      "\n",
      "\n",
      "Menu▾\n",
      "\n",
      "\n",
      "\n",
      "About\n",
      "          ▾\n",
      "\n",
      "▾\n",
      "\n",
      "\n",
      "About Project Gutenberg\n",
      "Collection Development\n",
      "Contact Us\n",
      "History & Philosophy\n",
      "Permissions & License\n",
      "Privacy Policy\n",
      "Terms of Use\n",
      "\n",
      "\n",
      "\n",
      "Search and Browse\n",
      "      \t  ▾\n",
      "\n",
      "▾\n",
      "\n",
      "\n",
      "Book Search\n",
      "Bookshelves\n",
      "Frequently Downloaded\n",
      "Offline Catalogs\n",
      "\n",
      "\n",
      "\n",
      "Help\n",
      "          ▾\n",
      "\n",
      "▾\n",
      "\n",
      "\n",
      "All help topics →\n",
      "Copyright How-To\n",
      "Errata, Fixes and Bug Reports\n",
      "File Formats\n",
      "Frequently Asked Questions\n",
      "Policies →\n",
      "Public Domain eBook Submission\n",
      "Submitting Your Own Work\n",
      "Tablets, Phones and eReaders\n",
      "The Attic →\n",
      "\n",
      "\n",
      "Donate\n",
      "\n",
      "\n",
      "\n",
      "\n",
      "\n",
      "\n",
      "\n",
      "\n",
      "\n",
      "\n",
      "Donation\n",
      "\n",
      "\n",
      "\n",
      "\n",
      "\n",
      "\n",
      "\n",
      "Frequently Viewed or Downloaded\n",
      "These listings are based on the number of times each eBook gets downloaded.\n",
      "      Multiple downloads from the same Internet address on the same day count as one download, and addresses that download more than 100 eBooks in a day are considered robots and are not counted.\n",
      "\n",
      "Downloaded Books\n",
      "2023-07-28224074\n",
      "last 7 days1501104\n",
      "last 30 days5913305\n",
      "\n",
      "\n",
      "\n",
      "Top 100 EBooks yesterday\n",
      "Top 100 Authors yesterday\n",
      "Top 100 EBooks last 7 days\n",
      "Top 100 Authors last 7 days\n",
      "Top 100 EBooks last 30 days\n",
      "Top 100 Authors last 30 days\n",
      "\n",
      "\n",
      "Top 100 EBooks yesterday\n",
      "\n",
      "Romeo and Juliet by William Shakespeare (2605)\n",
      "Moby Dick; Or, The Whale by Herman Melville (2464)\n",
      "A Room with a View by E. M.  Forster (2237)\n",
      "Middlemarch by George Eliot (2198)\n",
      "Little Women; Or, Meg, Jo, Beth, and Amy by Louisa May Alcott (2102)\n",
      "The Complete Works of William Shakespeare by William Shakespeare (2007)\n",
      "The Blue Castle: a novel by L. M.  Montgomery (1984)\n",
      "The Enchanted April by Elizabeth Von Arnim (1979)\n",
      "Cranford by Elizabeth Cleghorn Gaskell (1849)\n",
      "The Adventures of Ferdinand Count Fathom — Complete by T.  Smollett (1841)\n",
      "The Expedition of Humphry Clinker by T.  Smollett (1807)\n",
      "The Adventures of Roderick Random by T.  Smollett (1785)\n",
      "Anna Karenina by graf Leo Tolstoy (1783)\n",
      "Twenty Years After by Alexandre Dumas (1750)\n",
      "History of Tom Jones, a Foundling by Henry Fielding (1736)\n",
      "My Life — Volume 1 by Richard Wagn\n"
     ]
    }
   ],
   "source": [
    "# Extracting the ext from soup object and printing top 2000 characters.\n",
    "soup_text=soup1.text\n",
    "print(soup_text[:2000])"
   ]
  },
  {
   "cell_type": "markdown",
   "id": "3673adad",
   "metadata": {},
   "source": [
    "#### 10. Search in the extracted text from the soup object to find names of the top 100 eBooks(yesterday's Ranking)"
   ]
  },
  {
   "cell_type": "code",
   "execution_count": 15,
   "id": "74885bf1",
   "metadata": {},
   "outputs": [
    {
     "name": "stdout",
     "output_type": "stream",
     "text": [
      "Index using find method: 974\n",
      "Index using rfind method: 25586\n"
     ]
    }
   ],
   "source": [
    "# Use find method to find the top 100 eBooks yesterday string which returns the index of first occurance of the string\n",
    "print(f\"Index using find method: {soup_text.find('Top 100 EBooks yesterday')}\")\n",
    "# Use rfind method to find the top 100 eBooks yesterday string which returns the index of last occurance of the string\n",
    "print(f\"Index using rfind method: {soup_text.rfind('Top 100 EBooks yesterday')}\")"
   ]
  },
  {
   "cell_type": "markdown",
   "id": "1c4f01d8",
   "metadata": {},
   "source": [
    "#### 11. Create a starting index. It should point to the text . Use the splitlines method of soup.text"
   ]
  },
  {
   "cell_type": "code",
   "execution_count": 16,
   "id": "190efdfd",
   "metadata": {},
   "outputs": [
    {
     "name": "stdout",
     "output_type": "stream",
     "text": [
      "The text - `Top 100 eBooks yesterday` is present in the line 113\n"
     ]
    }
   ],
   "source": [
    "# Using splitlines method to find the index where the text is present\n",
    "index_st=soup_text.splitlines().index(\"Top 100 EBooks yesterday\")\n",
    "print(f\"The text - `Top 100 eBooks yesterday` is present in the line {index_st}\")"
   ]
  },
  {
   "cell_type": "markdown",
   "id": "dbd6dcb0",
   "metadata": {},
   "source": [
    "#### 12. Loop 1-100 to add the strings of the next 100 lines to this temporary list"
   ]
  },
  {
   "cell_type": "code",
   "execution_count": 17,
   "id": "9191eb04",
   "metadata": {},
   "outputs": [
    {
     "data": {
      "text/plain": [
       "['Romeo and Juliet by William Shakespeare (2605)',\n",
       " 'Moby Dick; Or, The Whale by Herman Melville (2464)',\n",
       " 'A Room with a View by E. M.  Forster (2237)',\n",
       " 'Middlemarch by George Eliot (2198)',\n",
       " 'Little Women; Or, Meg, Jo, Beth, and Amy by Louisa May Alcott (2102)',\n",
       " 'The Complete Works of William Shakespeare by William Shakespeare (2007)',\n",
       " 'The Blue Castle: a novel by L. M.  Montgomery (1984)',\n",
       " 'The Enchanted April by Elizabeth Von Arnim (1979)',\n",
       " 'Cranford by Elizabeth Cleghorn Gaskell (1849)',\n",
       " 'The Adventures of Ferdinand Count Fathom — Complete by T.  Smollett (1841)',\n",
       " 'The Expedition of Humphry Clinker by T.  Smollett (1807)',\n",
       " 'The Adventures of Roderick Random by T.  Smollett (1785)',\n",
       " 'Anna Karenina by graf Leo Tolstoy (1783)',\n",
       " 'Twenty Years After by Alexandre Dumas (1750)',\n",
       " 'History of Tom Jones, a Foundling by Henry Fielding (1736)',\n",
       " 'My Life — Volume 1 by Richard Wagner (1705)',\n",
       " 'Pride and Prejudice by Jane Austen (1519)',\n",
       " \"Alice's Adventures in Wonderland by Lewis Carroll (878)\",\n",
       " 'Dead letters by Maurice Baring (831)',\n",
       " 'The Count of Monte Cristo, Illustrated by Alexandre Dumas (810)']"
      ]
     },
     "execution_count": 17,
     "metadata": {},
     "output_type": "execute_result"
    }
   ],
   "source": [
    "# Creating a temporary list \n",
    "temp_list=[]\n",
    "# Looping through each book title to capture the top 100 eBooks yesterday\n",
    "for title in range(100):\n",
    "    # Using the starting Index position and skipping ten lines after that to extract the top 100 eBooks\n",
    "    temp_list.append(soup_text.splitlines()[index_st+10+title])\n",
    "# Printing the top 20 results\n",
    "temp_list[:20]"
   ]
  },
  {
   "cell_type": "markdown",
   "id": "c159e049",
   "metadata": {},
   "source": [
    "#### 13. Create a Regular Expression to extract only the text from name strings and append to the list"
   ]
  },
  {
   "cell_type": "code",
   "execution_count": 18,
   "id": "8f2e5436",
   "metadata": {},
   "outputs": [
    {
     "data": {
      "text/plain": [
       "['Romeo and Juliet by William Shakespeare ',\n",
       " 'Moby Dick; Or, The Whale by Herman Melville ',\n",
       " 'A Room with a View by E. M.  Forster ',\n",
       " 'Middlemarch by George Eliot ',\n",
       " 'Little Women; Or, Meg, Jo, Beth, and Amy by Louisa May Alcott ',\n",
       " 'The Complete Works of William Shakespeare by William Shakespeare ',\n",
       " 'The Blue Castle: a novel by L. M.  Montgomery ',\n",
       " 'The Enchanted April by Elizabeth Von Arnim ',\n",
       " 'Cranford by Elizabeth Cleghorn Gaskell ',\n",
       " 'The Adventures of Ferdinand Count Fathom — Complete by T.  Smollett ',\n",
       " 'The Expedition of Humphry Clinker by T.  Smollett ',\n",
       " 'The Adventures of Roderick Random by T.  Smollett ',\n",
       " 'Anna Karenina by graf Leo Tolstoy ',\n",
       " 'Twenty Years After by Alexandre Dumas ',\n",
       " 'History of Tom Jones, a Foundling by Henry Fielding ',\n",
       " 'My Life — Volume 1 by Richard Wagner ',\n",
       " 'Pride and Prejudice by Jane Austen ',\n",
       " \"Alice's Adventures in Wonderland by Lewis Carroll \",\n",
       " 'Dead letters by Maurice Baring ',\n",
       " 'The Count of Monte Cristo, Illustrated by Alexandre Dumas ']"
      ]
     },
     "execution_count": 18,
     "metadata": {},
     "output_type": "execute_result"
    }
   ],
   "source": [
    "# Creating an empty list to capture the book titles\n",
    "top_100_books_list=[]\n",
    "# Creating a pattern of the name of the books that includes hyphens, period, comma, semicolons and colon\n",
    "pattern2=re.compile(r'[-a-z-A-Z0-9\\.\\,;:ò\\'\\\\— ]+')\n",
    "# Looping through each item in the temp list and searching for pattern\n",
    "for book in temp_list:\n",
    "    mt=pattern2.search(book)\n",
    "    # Span method is used to identify the start and end position of the string to be extracted\n",
    "    start_pos=mt.span()[0]\n",
    "    end_pos=mt.span()[1]\n",
    "    top_100_books_list.append(book[start_pos:end_pos])\n",
    "# Printing the list of book names extracted\n",
    "top_100_books_list[:20]"
   ]
  },
  {
   "cell_type": "markdown",
   "id": "fc691771",
   "metadata": {},
   "source": [
    "## 2. Activity 10"
   ]
  },
  {
   "cell_type": "markdown",
   "id": "2f1c7cc3",
   "metadata": {},
   "source": [
    "#### 1. Import the Libraries ( This is  complete in the first step)\n",
    "#### 2. Load the API key and store in a variable using json.loads"
   ]
  },
  {
   "cell_type": "code",
   "execution_count": 19,
   "id": "b94f2b9d",
   "metadata": {},
   "outputs": [],
   "source": [
    "# The APIKey is stored in a dictionary object which will be written to a file in next step\n",
    "# The Key details are hidden\n",
    "omdb_key_dict=\"\"\"{\n",
    "    \"Key1\":\"#######\"\n",
    "}\"\"\""
   ]
  },
  {
   "cell_type": "code",
   "execution_count": 20,
   "id": "1cccb1a0",
   "metadata": {},
   "outputs": [],
   "source": [
    "# Reading the string that has API Key stored in dictionary format\n",
    "omdb_key=json.loads(omdb_key_dict)"
   ]
  },
  {
   "cell_type": "markdown",
   "id": "21e63bda",
   "metadata": {},
   "source": [
    "#### 3. Obtain a key and store it in a JSON in APIkeys.json"
   ]
  },
  {
   "cell_type": "code",
   "execution_count": 21,
   "id": "16f1464d",
   "metadata": {},
   "outputs": [
    {
     "name": "stdout",
     "output_type": "stream",
     "text": [
      "The APIkeys.json file already exists!\n"
     ]
    }
   ],
   "source": [
    "# Getting the current working directory\n",
    "path1=os.getcwd()\n",
    "# Creating a variable to check if the API Keys file exists already\n",
    "API_key1_exists = os.path.isfile(path1+\"\\\\APIkeys.json\")\n",
    "# If the file exists already, skip the part of creation again\n",
    "if API_key1_exists:\n",
    "    print(\"The APIkeys.json file already exists!\")\n",
    "# If the file is missing, write the contents of key into the file\n",
    "else:\n",
    "    print(\"Creating the APIKeys.json file\")\n",
    "    with open(\"APIkeys.json\", \"w\") as key_file:\n",
    "        json.dump(omdb_key, key_file)\n",
    "    "
   ]
  },
  {
   "cell_type": "markdown",
   "id": "6b46f26e",
   "metadata": {},
   "source": [
    "#### 4. Open the APIkeys.json file"
   ]
  },
  {
   "cell_type": "code",
   "execution_count": 22,
   "id": "7eec25e9",
   "metadata": {},
   "outputs": [],
   "source": [
    "# Opening the APIKeys file to extract the APIKey\n",
    "with open(\"APIkeys.json\") as key_file_r:\n",
    "    # Reading the contents in json format\n",
    "    json_keys=json.load(key_file_r)\n",
    "    # Extracting the key from the variable Key1\n",
    "    api_key=json_keys['Key1']\n"
   ]
  },
  {
   "cell_type": "markdown",
   "id": "dcfd7579",
   "metadata": {},
   "source": [
    "#### 5. Assign the OMDB Portal as a string to a variable"
   ]
  },
  {
   "cell_type": "code",
   "execution_count": 23,
   "id": "6cdcd328",
   "metadata": {},
   "outputs": [],
   "source": [
    "# Assigning the base url of the OMDB portal to a variable\n",
    "base_url=\"http://www.omdbapi.com/?\""
   ]
  },
  {
   "cell_type": "markdown",
   "id": "4e78162d",
   "metadata": {},
   "source": [
    "#### 6. Create a variable called apikey"
   ]
  },
  {
   "cell_type": "code",
   "execution_count": 24,
   "id": "847da8f2",
   "metadata": {},
   "outputs": [
    {
     "data": {
      "text/plain": [
       "'&apikey=4381ed9c'"
      ]
     },
     "execution_count": 24,
     "metadata": {},
     "output_type": "execute_result"
    }
   ],
   "source": [
    "# creating a variable for api key in the format that can be used in the API call\n",
    "apikey_var=\"&apikey=\"+api_key\n",
    "apikey_var"
   ]
  },
  {
   "cell_type": "markdown",
   "id": "fc2b37ae",
   "metadata": {},
   "source": [
    "#### 7. Write a utility function called print_json to print the movie data from a JSON File"
   ]
  },
  {
   "cell_type": "code",
   "execution_count": 25,
   "id": "8ef6b346",
   "metadata": {},
   "outputs": [],
   "source": [
    "def print_json(input_data):\n",
    "    \"\"\"\n",
    "    This function takes the input data from the API response, extracts data from it and prints it.\n",
    "    \"\"\"\n",
    "    # creating a list of all the variables that the API returns\n",
    "    input_vars=[\"Title\",\"Year\",\"Rated\",\"Released\",\"Runtime\",\"Genre\",\"Director\",\"Writer\",\"Actors\",\"Plot\"\n",
    "                ,\"Language\",\"Country\",\"Awards\",\"Ratings\",\"Metascore\",\"imdbRating\",\"imdbVotes\",\"imdbID\"]\n",
    "    # Converting the API response to json format\n",
    "    json_data=json.loads(input_data)\n",
    "    # Looping through the list of variables and extracting the values from the response and printing them\n",
    "    for val in input_vars:\n",
    "        print(f\"The {val} is {json_data[val]}\")"
   ]
  },
  {
   "cell_type": "markdown",
   "id": "b5c4a271",
   "metadata": {},
   "source": [
    "#### 8. Write a function to download the Poster of the movie"
   ]
  },
  {
   "cell_type": "code",
   "execution_count": 26,
   "id": "07f88c56",
   "metadata": {},
   "outputs": [],
   "source": [
    "def download_poster(input_data):\n",
    "    \"\"\"\n",
    "    This function extracts the Poster URL of the movie and then connects to the URL and downloads the\n",
    "    image. The Image will then be stored in a local Poster directory in the format \n",
    "    <Movie_name>.<image_ext>\n",
    "    \"\"\"\n",
    "    # Converting the API response to json format\n",
    "    json_data=json.loads(input_data)\n",
    "    # Extracting poster URL from the variable \"Poster\"\n",
    "    poster_url=json_data['Poster']\n",
    "    # Printing the poster url\n",
    "    print(f\"Poster URL retrieved from website is {poster_url}\")\n",
    "    # Extracting the extension format of the URL variable by split the URL \n",
    "    poster_url_ext=poster_url.split(\".\")[-1]\n",
    "    print(f\"Poster URL Extension is {poster_url_ext}\")\n",
    "    # Extracting the Movie name from the Title Variable\n",
    "    movie_name=json_data['Title']\n",
    "    print(f\"The Movie Name is {movie_name}\")\n",
    "    # Creating a name of the poster image by combining the movie name and the extension\n",
    "    poster_name=str(movie_name)+\".\"+poster_url_ext\n",
    "    print(f\"The Poster name is {poster_name}\")\n",
    "    # using urllib to extract the poster image \n",
    "    poster_img=urllib.request.urlopen(poster_url).read()\n",
    "    # Assigning name to the folder where all the posters will be downloaded\n",
    "    poster_folder=os.getcwd()+\"\\\\\"+\"Poster_Images\"+\"\\\\\"\n",
    "    print(f\"The Poster Folder name is {poster_folder}\")\n",
    "    # Before creating the folder, checking where it exists. If it exists no action is taken\n",
    "    # Else folder will be created\n",
    "    if not os.path.isdir(poster_folder):\n",
    "        # Using OS library to create the folder named Poster_Images\n",
    "        os.mkdir(poster_folder)\n",
    "        print(\"Poster Folder Created!!\")\n",
    "    else:\n",
    "        # If Folder already exists, no action is taken , it just prints the message.\n",
    "        print(\"Poster Images folder already exists!\")\n",
    "    # Creating a name for the poster image file to be saved.\n",
    "    poster_filename=poster_folder+poster_name\n",
    "    print(f\"The Poster File name is {poster_filename}\")\n",
    "    # The image downloaded will be saved in the Poster_images folder in the format <movie_name>.<ext>\n",
    "    post_file=open(poster_filename,\"wb\")\n",
    "    post_file.write(poster_img)\n",
    "    print(\"Post File write successful!\")\n",
    "    # Closing the image file\n",
    "    post_file.close()"
   ]
  },
  {
   "cell_type": "markdown",
   "id": "e595bbea",
   "metadata": {},
   "source": [
    "#### 9. Write a utility function to search for a movie by its name"
   ]
  },
  {
   "cell_type": "code",
   "execution_count": 27,
   "id": "1ff3df26",
   "metadata": {},
   "outputs": [],
   "source": [
    "def search_movie(movie_name):\n",
    "    \"\"\"\n",
    "    This function takes the movie name as input and connects to API and extracts the response. \n",
    "    If the response is valid, the values are printed and Poster image is downloaded. Else the exception\n",
    "    is printed and exits.\n",
    "    \"\"\"\n",
    "    # Creating a dictionary of Parameters to be used in the API Call. Movie name is the input to the API\n",
    "    params1={'t':str(movie_name)}\n",
    "    # Creating url to be used by joining the base url, parameters and the APIKey\n",
    "    movie_url=base_url+urllib.parse.urlencode(params1)+apikey_var\n",
    "    print(f\"The Movie URL is {movie_url}\")\n",
    "    # Including the url response in a try except block\n",
    "    try:\n",
    "        # Extracting the response from the movie_url API\n",
    "        url_response=urllib.request.urlopen(movie_url)\n",
    "    # Handling the HTTPErrors if the movie details cannot be extracted or if page cannot be found\n",
    "    except urllib.error.HTTPError as error1:\n",
    "        print(f\"Sorry could not retrieve the details of the movie {movie_name}\")\n",
    "        return None\n",
    "    # Handling URLexceptions such as Incorrect URL or Internet connection issues\n",
    "    except urllib.error.URLError as error2:\n",
    "        print(\"Failed to reach the server\")\n",
    "        print(f\"Reason: {error2.reason}\" )\n",
    "    # If there are no exceptions, the response is read\n",
    "    else:\n",
    "        url_data=url_response.read()\n",
    "        # Response is converted to JSON format\n",
    "        json_data=json.loads(url_data)\n",
    "        # Checking the variable named Response . If the value is True, expected value is returned.\n",
    "        if json_data[\"Response\"]==\"True\":\n",
    "            print(\"**\"*50)\n",
    "            # Calling the print_json function that extracts the URL response and prints the data\n",
    "            print_json(url_data)\n",
    "            print(\"**\"*50)\n",
    "            # Downloading the poster Image and storing the image in Poster image folder\n",
    "            download_poster(url_data)\n",
    "        # If the Response is not True, the response is not valid. \n",
    "        else:\n",
    "            print(f\"Error!Something is not right! {json_data['Error']}\")\n",
    "                   "
   ]
  },
  {
   "cell_type": "markdown",
   "id": "43cac640",
   "metadata": {},
   "source": [
    "#### 10. Test the search_movie with \"Titanic\""
   ]
  },
  {
   "cell_type": "code",
   "execution_count": 28,
   "id": "0af10220",
   "metadata": {},
   "outputs": [
    {
     "name": "stdout",
     "output_type": "stream",
     "text": [
      "The Movie URL is http://www.omdbapi.com/?t=Titanic&apikey=4381ed9c\n",
      "****************************************************************************************************\n",
      "The Title is Titanic\n",
      "The Year is 1997\n",
      "The Rated is PG-13\n",
      "The Released is 19 Dec 1997\n",
      "The Runtime is 194 min\n",
      "The Genre is Drama, Romance\n",
      "The Director is James Cameron\n",
      "The Writer is James Cameron\n",
      "The Actors is Leonardo DiCaprio, Kate Winslet, Billy Zane\n",
      "The Plot is A seventeen-year-old aristocrat falls in love with a kind but poor artist aboard the luxurious, ill-fated R.M.S. Titanic.\n",
      "The Language is English, Swedish, Italian, French\n",
      "The Country is United States, Mexico\n",
      "The Awards is Won 11 Oscars. 126 wins & 83 nominations total\n",
      "The Ratings is [{'Source': 'Internet Movie Database', 'Value': '7.9/10'}, {'Source': 'Rotten Tomatoes', 'Value': '88%'}, {'Source': 'Metacritic', 'Value': '75/100'}]\n",
      "The Metascore is 75\n",
      "The imdbRating is 7.9\n",
      "The imdbVotes is 1,228,124\n",
      "The imdbID is tt0120338\n",
      "****************************************************************************************************\n",
      "Poster URL retrieved from website is https://m.media-amazon.com/images/M/MV5BMDdmZGU3NDQtY2E5My00ZTliLWIzOTUtMTY4ZGI1YjdiNjk3XkEyXkFqcGdeQXVyNTA4NzY1MzY@._V1_SX300.jpg\n",
      "Poster URL Extension is jpg\n",
      "The Movie Name is Titanic\n",
      "The Poster name is Titanic.jpg\n",
      "The Poster Folder name is C:\\Users\\Gurup\\GURU\\Learning\\Masters\\Term_4\\DSC540_Data_Preparation\\Week_7_8\\Poster_Images\\\n",
      "Poster Images folder already exists!\n",
      "The Poster File name is C:\\Users\\Gurup\\GURU\\Learning\\Masters\\Term_4\\DSC540_Data_Preparation\\Week_7_8\\Poster_Images\\Titanic.jpg\n",
      "Post File write successful!\n"
     ]
    }
   ],
   "source": [
    "search_movie('Titanic')"
   ]
  },
  {
   "attachments": {
    "Titanic.jpg": {
     "image/jpeg": "[encoded data removed]"
    }
   },
   "cell_type": "markdown",
   "id": "944e7a64",
   "metadata": {},
   "source": [
    "![Titanic.jpg](attachment:Titanic.jpg)"
   ]
  },
  {
   "cell_type": "code",
   "execution_count": 29,
   "id": "d5589f65",
   "metadata": {},
   "outputs": [
    {
     "name": "stdout",
     "output_type": "stream",
     "text": [
      "The Movie URL is http://www.omdbapi.com/?t=Shining&apikey=4381ed9c\n",
      "****************************************************************************************************\n",
      "The Title is The Shining\n",
      "The Year is 1980\n",
      "The Rated is R\n",
      "The Released is 13 Jun 1980\n",
      "The Runtime is 146 min\n",
      "The Genre is Drama, Horror\n",
      "The Director is Stanley Kubrick\n",
      "The Writer is Stephen King, Stanley Kubrick, Diane Johnson\n",
      "The Actors is Jack Nicholson, Shelley Duvall, Danny Lloyd\n",
      "The Plot is A family heads to an isolated hotel for the winter where a sinister presence influences the father into violence, while his psychic son sees horrific forebodings from both past and future.\n",
      "The Language is English\n",
      "The Country is United Kingdom, United States\n",
      "The Awards is 5 wins & 8 nominations\n",
      "The Ratings is [{'Source': 'Internet Movie Database', 'Value': '8.4/10'}, {'Source': 'Rotten Tomatoes', 'Value': '82%'}, {'Source': 'Metacritic', 'Value': '66/100'}]\n",
      "The Metascore is 66\n",
      "The imdbRating is 8.4\n",
      "The imdbVotes is 1,059,208\n",
      "The imdbID is tt0081505\n",
      "****************************************************************************************************\n",
      "Poster URL retrieved from website is https://m.media-amazon.com/images/M/MV5BZWFlYmY2MGEtZjVkYS00YzU4LTg0YjQtYzY1ZGE3NTA5NGQxXkEyXkFqcGdeQXVyMTQxNzMzNDI@._V1_SX300.jpg\n",
      "Poster URL Extension is jpg\n",
      "The Movie Name is The Shining\n",
      "The Poster name is The Shining.jpg\n",
      "The Poster Folder name is C:\\Users\\Gurup\\GURU\\Learning\\Masters\\Term_4\\DSC540_Data_Preparation\\Week_7_8\\Poster_Images\\\n",
      "Poster Images folder already exists!\n",
      "The Poster File name is C:\\Users\\Gurup\\GURU\\Learning\\Masters\\Term_4\\DSC540_Data_Preparation\\Week_7_8\\Poster_Images\\The Shining.jpg\n",
      "Post File write successful!\n"
     ]
    }
   ],
   "source": [
    "search_movie('Shining')"
   ]
  },
  {
   "attachments": {
    "The%20Shining.jpg": {
     "image/jpeg": "[encoded data removed]"
    }
   },
   "cell_type": "markdown",
   "id": "b51ac688",
   "metadata": {},
   "source": [
    "![The%20Shining.jpg](attachment:The%20Shining.jpg)"
   ]
  },
  {
   "cell_type": "markdown",
   "id": "3cabf934",
   "metadata": {},
   "source": [
    "#### 11. Test the search_movie with \"Random_error\""
   ]
  },
  {
   "cell_type": "code",
   "execution_count": 30,
   "id": "c3add344",
   "metadata": {},
   "outputs": [
    {
     "name": "stdout",
     "output_type": "stream",
     "text": [
      "The Movie URL is http://www.omdbapi.com/?t=Random_error&apikey=4381ed9c\n",
      "Error!Something is not right! Movie not found!\n"
     ]
    }
   ],
   "source": [
    "search_movie('Random_error')"
   ]
  },
  {
   "cell_type": "markdown",
   "id": "e1897ed7",
   "metadata": {},
   "source": [
    "## 3.  Connect to an API of your choice and do a simple data pull"
   ]
  },
  {
   "cell_type": "markdown",
   "id": "eb64880c",
   "metadata": {},
   "source": [
    "##### For this part of the assignment, the Chicago Transit Authority(CTA) API is used."
   ]
  },
  {
   "cell_type": "code",
   "execution_count": 31,
   "id": "04c025fd",
   "metadata": {},
   "outputs": [],
   "source": [
    "# Assigning the API key to a variable\n",
    "# The key is hidden\n",
    "cta_api_key_string=\"\"\"\n",
    "{\"key1\":\"##########################\"}\n",
    "\"\"\""
   ]
  },
  {
   "cell_type": "code",
   "execution_count": 32,
   "id": "3d8f398c",
   "metadata": {},
   "outputs": [],
   "source": [
    "# Reading the Json string into a variable\n",
    "cta_key_json=json.loads(cta_api_key_string)"
   ]
  },
  {
   "cell_type": "code",
   "execution_count": 33,
   "id": "039620ac",
   "metadata": {},
   "outputs": [
    {
     "name": "stdout",
     "output_type": "stream",
     "text": [
      "The cta_key.json file already exists!\n"
     ]
    }
   ],
   "source": [
    "# Getting the current working directory\n",
    "path2=os.getcwd()\n",
    "# Creating a variable to check if the cta Keys file exists already\n",
    "API_key2_exists = os.path.isfile(path2+\"\\\\cta_key.json\")\n",
    "# If the file exists already, skip the part of creation again\n",
    "if API_key2_exists:\n",
    "    print(\"The cta_key.json file already exists!\")\n",
    "# If the file is missing, write the contents of key into the file\n",
    "else:\n",
    "    print(\"Creating the cta_key.json file\")\n",
    "    with open(\"cta_key.json\",\"w\") as cta_key_file:\n",
    "        json.dump(cta_key_json,cta_key_file)\n",
    "    \n"
   ]
  },
  {
   "cell_type": "code",
   "execution_count": 34,
   "id": "318d4ed7",
   "metadata": {},
   "outputs": [],
   "source": [
    "# Extracting the cta key from the json file created in the step above\n",
    "with open(\"cta_key.json\",\"r\") as cta_key_file2:\n",
    "    json_key_cta=json.load(cta_key_file2)\n",
    "    # Reading the Key1 variable that contains the cta key\n",
    "    cta_key=json_key_cta['key1']\n"
   ]
  },
  {
   "cell_type": "code",
   "execution_count": 35,
   "id": "c3b43fad",
   "metadata": {},
   "outputs": [],
   "source": [
    "# Assigning the base URL to a variable\n",
    "cta_base_url=\"http://lapi.transitchicago.com/api/1.0/ttpositions.aspx?\""
   ]
  },
  {
   "cell_type": "code",
   "execution_count": 36,
   "id": "f479ae4a",
   "metadata": {},
   "outputs": [
    {
     "name": "stdout",
     "output_type": "stream",
     "text": [
      "The route used in the API is Pink\n"
     ]
    }
   ],
   "source": [
    "# Creating a list of routes that willbe used in this project\n",
    "route_colors=[\"Red\",\"Blue\",\"Brn\",'G',\"Org\",\"Pink\"]\n",
    "# Randomly choosing a Route color list which will be used in the API call\n",
    "route_color=np.random.choice(route_colors)\n",
    "print(f\"The route used in the API is {route_color}\")\n",
    "\n"
   ]
  },
  {
   "cell_type": "code",
   "execution_count": 37,
   "id": "2d2938aa",
   "metadata": {},
   "outputs": [
    {
     "name": "stdout",
     "output_type": "stream",
     "text": [
      "The API URL is http://lapi.transitchicago.com/api/1.0/ttpositions.aspx?key=e43e98df7f83418f834b31efaf5ec927&rt=Pink&outputType=JSON\n",
      "No exceptions are found! Proceeding to process the API response\n",
      "Below is the URL Response data:\n",
      "{'ctatt': {'tmst': '2023-07-29T19:13:36', 'errCd': '0', 'errNm': None, 'route': [{'@name': 'pink', 'train': [{'rn': '309', 'destSt': '30114', 'destNm': 'Loop', 'trDr': '1', 'nextStaId': '40740', 'nextStpId': '30143', 'nextStaNm': 'Western', 'prdt': '2023-07-29T19:12:45', 'arrT': '2023-07-29T19:13:45', 'isApp': '1', 'isDly': '0', 'flags': None, 'lat': '41.85428', 'lon': '-87.69478', 'heading': '89'}, {'rn': '310', 'destSt': '30114', 'destNm': '54th/Cermak', 'trDr': '5', 'nextStaId': '40380', 'nextStpId': '30074', 'nextStaNm': 'Clark/Lake', 'prdt': '2023-07-29T19:12:43', 'arrT': '2023-07-29T19:13:43', 'isApp': '1', 'isDly': '0', 'flags': None, 'lat': '41.8857', 'lon': '-87.64069', 'heading': '89'}, {'rn': '311', 'destSt': '30114', 'destNm': '54th/Cermak', 'trDr': '5', 'nextStaId': '40740', 'nextStpId': '30144', 'nextStaNm': 'Western', 'prdt': '2023-07-29T19:13:18', 'arrT': '2023-07-29T19:14:18', 'isApp': '1', 'isDly': '0', 'flags': None, 'lat': '41.85451', 'lon': '-87.67597', 'heading': '269'}, {'rn': '312', 'destSt': '30114', 'destNm': '54th/Cermak', 'trDr': '1', 'nextStaId': '41510', 'nextStpId': '30296', 'nextStaNm': 'Morgan', 'prdt': '2023-07-29T19:13:05', 'arrT': '2023-07-29T19:14:05', 'isApp': '1', 'isDly': '0', 'flags': None, 'lat': '41.8857', 'lon': '-87.64178', 'heading': '269'}, {'rn': '313', 'destSt': '30114', 'destNm': '54th/Cermak', 'trDr': '5', 'nextStaId': '40580', 'nextStpId': '30114', 'nextStaNm': '54th/Cermak', 'prdt': '2023-07-29T19:12:46', 'arrT': '2023-07-29T19:14:46', 'isApp': '0', 'isDly': '0', 'flags': None, 'lat': '41.85192', 'lon': '-87.74534', 'heading': '269'}]}]}}\n"
     ]
    }
   ],
   "source": [
    "# Creating a dictionary of Parameters to be used in the API Call\n",
    "params2={'key':str(cta_key),'rt':route_color,\"outputType\":\"JSON\"}\n",
    "# Creating the final url by combining the base url and the Parameters that includes the API Key\n",
    "cta_api_url=str(cta_base_url)+urllib.parse.urlencode(params2)\n",
    "print(f\"The API URL is {cta_api_url}\")\n",
    "# Getting the API response\n",
    "try:\n",
    "    cta_url_response=urllib.request.urlopen(cta_api_url)\n",
    "# Handling the HTTPErrors if the movie details cannot be extracted or if page cannot be found\n",
    "except urllib.error.HTTPError as error1:\n",
    "    print(f\"Sorry could not retrieve the details of the movie {movie_name}\")\n",
    "# Handling URLexceptions such as Incorrect URL or Internet connection issues\n",
    "except urllib.error.URLError as error2:\n",
    "    print(\"Failed to reach the server\")\n",
    "    print(f\"Reason: {error2.reason}\" )\n",
    "# If no exceptions are found, data is extracted from the API response \n",
    "else:\n",
    "    print(\"No exceptions are found! Proceeding to process the API response\")\n",
    "    cta_url_data=cta_url_response.read()\n",
    "    # The response is converted to json\n",
    "    cta_json_data=json.loads(cta_url_data)\n",
    "    print(\"Below is the URL Response data:\")\n",
    "    print(cta_json_data)"
   ]
  },
  {
   "cell_type": "code",
   "execution_count": 38,
   "id": "c8ffb316",
   "metadata": {},
   "outputs": [],
   "source": [
    "def extract_cta_data(cta_json_data):\n",
    "    \"\"\"\n",
    "    This function takes the json input and parses the data and returns a Dataframe of the extracted fields.\n",
    "    \"\"\"\n",
    "    # Creating a list of fields that will be extracted from the API\n",
    "    list_of_fields=[\"rn\",\"destSt\",\"destNm\",\"trDr\",\"nextStaId\"\n",
    "                    ,\"nextStpId\",\"nextStaNm\",\"prdt\",\"arrT\",\"isApp\",\"isDly\",\"lat\",\"lon\"]\n",
    "    # Checking of the error code from the API is 0 which indicates successful data retrieval\n",
    "    if cta_json_data['ctatt']['errCd']==\"0\":\n",
    "        # Extracting the Timestamp field\n",
    "        cta_timestamp=cta_json_data['ctatt']['tmst']\n",
    "        # Extracting the route information\n",
    "        cta_routes=cta_json_data['ctatt']['route']\n",
    "        # Extracting the route data\n",
    "        cta_route_name=cta_routes[0]['@name']\n",
    "        # Extracting the details of the train details \n",
    "        cta_train=cta_routes[0]['train']\n",
    "        # Getting the ctive number of trains\n",
    "        cta_train_len=len(cta_train)\n",
    "        # Creating a dummy dataframe with number of rows equal to number of active trains. The column\n",
    "        # length is same as number of columns extracted from the API\n",
    "        cta_df1=pd.DataFrame(np.random.rand(cta_train_len,len(list_of_fields)),columns=list_of_fields)\n",
    "        # Adding new columns to the daraframe to contain the timestamp and Route name\n",
    "        cta_df1[\"ROUTE_NAME\"]=cta_route_name\n",
    "        cta_df1[\"TIMESTAMP\"]=cta_timestamp\n",
    "        # Parsing each row and column in the dataframe and updating the values extracted from the API\n",
    "        for idx1 in range(cta_train_len):\n",
    "            # Looping through each field in the list of fields \n",
    "            for idx2,field in enumerate(list_of_fields):\n",
    "                #updating the Dataframe with the data extracted from API based on the Index positions\n",
    "                cta_df1.iloc[idx1,idx2]=cta_train[idx1][field]\n",
    "        # Formatting the dataframe by renaming columns\n",
    "        cta_df1.rename(columns={\"rn\":\"RUN_NUMBER\",\n",
    "                               \"destSt\":\"DEST_STREET\",\n",
    "                               \"destNm\":\"DEST_NAME\",\n",
    "                               \"trDr\":\"TRAIN_ROUTE_NBR\",\n",
    "                               \"nextStaId\":\"NEXT_STATION_ID\",\n",
    "                               \"nextStpId\":\"NEXT_STOP_ID\",\n",
    "                               \"nextStaNm\":\"NEXT_STATION_NAME\",\n",
    "                               \"prdt\":\"PREDICTION_TS\",\n",
    "                               \"arrT\":\"ARRIVAL_TS\",\n",
    "                               \"isApp\":\"IS_APPROACHING\",\n",
    "                               \"isDly\":\"IS_DELAYED\",\n",
    "                                \"lat\":\"LATITUDE\",\n",
    "                                \"lon\":\"LONGITUDE\"\n",
    "                               },inplace=True)\n",
    "        # Converting the data to Upper case and stripping off the extra spaces.\n",
    "        for col in cta_df1.columns:\n",
    "            cta_df1[col]=cta_df1[col].apply(str.strip)\n",
    "            cta_df1[col]=cta_df1[col].apply(str.upper)\n",
    "            return cta_df1\n",
    "    # If the errCd returned by the API is not 0, it indicates error\n",
    "    else:\n",
    "        print(f\"Error Occurred: {cta_json_data['ctatt']['errNm']}\")\n",
    "        return None"
   ]
  },
  {
   "cell_type": "code",
   "execution_count": 39,
   "id": "cd461be7",
   "metadata": {},
   "outputs": [
    {
     "name": "stdout",
     "output_type": "stream",
     "text": [
      "Data retrieved from CTA API Successfully!\n"
     ]
    }
   ],
   "source": [
    "# Calling the function to extract the API data\n",
    "cta_df1=extract_cta_data(cta_json_data)\n",
    "# Checking if the response is valid and printing success message\n",
    "if cta_df1 is not None:\n",
    "    print(\"Data retrieved from CTA API Successfully!\")\n",
    "# If the function returns None, it indicates some error.\n",
    "else:\n",
    "    print(\"No Valid data returned from API! Exiting!\")\n",
    "    exit(1)"
   ]
  },
  {
   "cell_type": "code",
   "execution_count": 40,
   "id": "a258d7d7",
   "metadata": {},
   "outputs": [
    {
     "data": {
      "text/html": [
       "<div>\n",
       "<style scoped>\n",
       "    .dataframe tbody tr th:only-of-type {\n",
       "        vertical-align: middle;\n",
       "    }\n",
       "\n",
       "    .dataframe tbody tr th {\n",
       "        vertical-align: top;\n",
       "    }\n",
       "\n",
       "    .dataframe thead th {\n",
       "        text-align: right;\n",
       "    }\n",
       "</style>\n",
       "<table border=\"1\" class=\"dataframe\">\n",
       "  <thead>\n",
       "    <tr style=\"text-align: right;\">\n",
       "      <th></th>\n",
       "      <th>ROUTE_NAME</th>\n",
       "      <th>TIMESTAMP</th>\n",
       "      <th>RUN_NUMBER</th>\n",
       "      <th>DEST_STREET</th>\n",
       "      <th>DEST_NAME</th>\n",
       "      <th>TRAIN_ROUTE_NBR</th>\n",
       "      <th>NEXT_STATION_ID</th>\n",
       "      <th>NEXT_STOP_ID</th>\n",
       "      <th>NEXT_STATION_NAME</th>\n",
       "      <th>PREDICTION_TS</th>\n",
       "      <th>ARRIVAL_TS</th>\n",
       "      <th>IS_APPROACHING</th>\n",
       "      <th>IS_DELAYED</th>\n",
       "      <th>LATITUDE</th>\n",
       "      <th>LONGITUDE</th>\n",
       "    </tr>\n",
       "  </thead>\n",
       "  <tbody>\n",
       "    <tr>\n",
       "      <th>0</th>\n",
       "      <td>pink</td>\n",
       "      <td>2023-07-29T19:13:36</td>\n",
       "      <td>309</td>\n",
       "      <td>30114</td>\n",
       "      <td>Loop</td>\n",
       "      <td>1</td>\n",
       "      <td>40740</td>\n",
       "      <td>30143</td>\n",
       "      <td>Western</td>\n",
       "      <td>2023-07-29T19:12:45</td>\n",
       "      <td>2023-07-29T19:13:45</td>\n",
       "      <td>1</td>\n",
       "      <td>0</td>\n",
       "      <td>41.85428</td>\n",
       "      <td>-87.69478</td>\n",
       "    </tr>\n",
       "    <tr>\n",
       "      <th>1</th>\n",
       "      <td>pink</td>\n",
       "      <td>2023-07-29T19:13:36</td>\n",
       "      <td>310</td>\n",
       "      <td>30114</td>\n",
       "      <td>54th/Cermak</td>\n",
       "      <td>5</td>\n",
       "      <td>40380</td>\n",
       "      <td>30074</td>\n",
       "      <td>Clark/Lake</td>\n",
       "      <td>2023-07-29T19:12:43</td>\n",
       "      <td>2023-07-29T19:13:43</td>\n",
       "      <td>1</td>\n",
       "      <td>0</td>\n",
       "      <td>41.8857</td>\n",
       "      <td>-87.64069</td>\n",
       "    </tr>\n",
       "    <tr>\n",
       "      <th>2</th>\n",
       "      <td>pink</td>\n",
       "      <td>2023-07-29T19:13:36</td>\n",
       "      <td>311</td>\n",
       "      <td>30114</td>\n",
       "      <td>54th/Cermak</td>\n",
       "      <td>5</td>\n",
       "      <td>40740</td>\n",
       "      <td>30144</td>\n",
       "      <td>Western</td>\n",
       "      <td>2023-07-29T19:13:18</td>\n",
       "      <td>2023-07-29T19:14:18</td>\n",
       "      <td>1</td>\n",
       "      <td>0</td>\n",
       "      <td>41.85451</td>\n",
       "      <td>-87.67597</td>\n",
       "    </tr>\n",
       "    <tr>\n",
       "      <th>3</th>\n",
       "      <td>pink</td>\n",
       "      <td>2023-07-29T19:13:36</td>\n",
       "      <td>312</td>\n",
       "      <td>30114</td>\n",
       "      <td>54th/Cermak</td>\n",
       "      <td>1</td>\n",
       "      <td>41510</td>\n",
       "      <td>30296</td>\n",
       "      <td>Morgan</td>\n",
       "      <td>2023-07-29T19:13:05</td>\n",
       "      <td>2023-07-29T19:14:05</td>\n",
       "      <td>1</td>\n",
       "      <td>0</td>\n",
       "      <td>41.8857</td>\n",
       "      <td>-87.64178</td>\n",
       "    </tr>\n",
       "    <tr>\n",
       "      <th>4</th>\n",
       "      <td>pink</td>\n",
       "      <td>2023-07-29T19:13:36</td>\n",
       "      <td>313</td>\n",
       "      <td>30114</td>\n",
       "      <td>54th/Cermak</td>\n",
       "      <td>5</td>\n",
       "      <td>40580</td>\n",
       "      <td>30114</td>\n",
       "      <td>54th/Cermak</td>\n",
       "      <td>2023-07-29T19:12:46</td>\n",
       "      <td>2023-07-29T19:14:46</td>\n",
       "      <td>0</td>\n",
       "      <td>0</td>\n",
       "      <td>41.85192</td>\n",
       "      <td>-87.74534</td>\n",
       "    </tr>\n",
       "  </tbody>\n",
       "</table>\n",
       "</div>"
      ],
      "text/plain": [
       "  ROUTE_NAME            TIMESTAMP RUN_NUMBER DEST_STREET    DEST_NAME  \\\n",
       "0       pink  2023-07-29T19:13:36        309       30114         Loop   \n",
       "1       pink  2023-07-29T19:13:36        310       30114  54th/Cermak   \n",
       "2       pink  2023-07-29T19:13:36        311       30114  54th/Cermak   \n",
       "3       pink  2023-07-29T19:13:36        312       30114  54th/Cermak   \n",
       "4       pink  2023-07-29T19:13:36        313       30114  54th/Cermak   \n",
       "\n",
       "  TRAIN_ROUTE_NBR NEXT_STATION_ID NEXT_STOP_ID NEXT_STATION_NAME  \\\n",
       "0               1           40740        30143           Western   \n",
       "1               5           40380        30074        Clark/Lake   \n",
       "2               5           40740        30144           Western   \n",
       "3               1           41510        30296            Morgan   \n",
       "4               5           40580        30114       54th/Cermak   \n",
       "\n",
       "         PREDICTION_TS           ARRIVAL_TS IS_APPROACHING IS_DELAYED  \\\n",
       "0  2023-07-29T19:12:45  2023-07-29T19:13:45              1          0   \n",
       "1  2023-07-29T19:12:43  2023-07-29T19:13:43              1          0   \n",
       "2  2023-07-29T19:13:18  2023-07-29T19:14:18              1          0   \n",
       "3  2023-07-29T19:13:05  2023-07-29T19:14:05              1          0   \n",
       "4  2023-07-29T19:12:46  2023-07-29T19:14:46              0          0   \n",
       "\n",
       "   LATITUDE  LONGITUDE  \n",
       "0  41.85428  -87.69478  \n",
       "1   41.8857  -87.64069  \n",
       "2  41.85451  -87.67597  \n",
       "3   41.8857  -87.64178  \n",
       "4  41.85192  -87.74534  "
      ]
     },
     "metadata": {},
     "output_type": "display_data"
    }
   ],
   "source": [
    "# Formatting the order of columns before printing the final Dataframe\n",
    "cta_df2=cta_df1[[\"ROUTE_NAME\",\"TIMESTAMP\",\"RUN_NUMBER\",\"DEST_STREET\",\"DEST_NAME\",\"TRAIN_ROUTE_NBR\",\"NEXT_STATION_ID\"\n",
    "                 ,\"NEXT_STOP_ID\",\"NEXT_STATION_NAME\",\"PREDICTION_TS\",\"ARRIVAL_TS\",\"IS_APPROACHING\",\"IS_DELAYED\",\n",
    "                \"LATITUDE\",\"LONGITUDE\"]]\n",
    "display(cta_df2)"
   ]
  },
  {
   "cell_type": "markdown",
   "id": "998f3db7",
   "metadata": {},
   "source": [
    "## 4.Plot Visualizations"
   ]
  },
  {
   "cell_type": "markdown",
   "id": "dd4345d8",
   "metadata": {},
   "source": [
    "#### In this exercise, I'm using the dataset Electric_Vehicle_Population_Size_History_By_County to plot visualizations on it.\n",
    "#### Source: https://catalog.data.gov/dataset/electric-vehicle-population-size-history-by-county"
   ]
  },
  {
   "cell_type": "code",
   "execution_count": 41,
   "id": "2bf2479b",
   "metadata": {},
   "outputs": [
    {
     "data": {
      "text/html": [
       "<div>\n",
       "<style scoped>\n",
       "    .dataframe tbody tr th:only-of-type {\n",
       "        vertical-align: middle;\n",
       "    }\n",
       "\n",
       "    .dataframe tbody tr th {\n",
       "        vertical-align: top;\n",
       "    }\n",
       "\n",
       "    .dataframe thead th {\n",
       "        text-align: right;\n",
       "    }\n",
       "</style>\n",
       "<table border=\"1\" class=\"dataframe\">\n",
       "  <thead>\n",
       "    <tr style=\"text-align: right;\">\n",
       "      <th></th>\n",
       "      <th>Date</th>\n",
       "      <th>County</th>\n",
       "      <th>State</th>\n",
       "      <th>Vehicle Primary Use</th>\n",
       "      <th>Battery Electric Vehicles (BEVs)</th>\n",
       "      <th>Plug-In Hybrid Electric Vehicles (PHEVs)</th>\n",
       "      <th>Electric Vehicle (EV) Total</th>\n",
       "      <th>Non-Electric Vehicle Total</th>\n",
       "      <th>Total Vehicles</th>\n",
       "      <th>Percent Electric Vehicles</th>\n",
       "    </tr>\n",
       "  </thead>\n",
       "  <tbody>\n",
       "    <tr>\n",
       "      <th>0</th>\n",
       "      <td>April 30 2020</td>\n",
       "      <td>Mason</td>\n",
       "      <td>WA</td>\n",
       "      <td>Truck</td>\n",
       "      <td>0</td>\n",
       "      <td>0</td>\n",
       "      <td>0</td>\n",
       "      <td>20531</td>\n",
       "      <td>20531</td>\n",
       "      <td>0.00</td>\n",
       "    </tr>\n",
       "    <tr>\n",
       "      <th>1</th>\n",
       "      <td>April 30 2020</td>\n",
       "      <td>Middlesex</td>\n",
       "      <td>MA</td>\n",
       "      <td>Passenger</td>\n",
       "      <td>1</td>\n",
       "      <td>1</td>\n",
       "      <td>2</td>\n",
       "      <td>101</td>\n",
       "      <td>103</td>\n",
       "      <td>1.94</td>\n",
       "    </tr>\n",
       "    <tr>\n",
       "      <th>2</th>\n",
       "      <td>April 30 2020</td>\n",
       "      <td>Monroe</td>\n",
       "      <td>IL</td>\n",
       "      <td>Passenger</td>\n",
       "      <td>1</td>\n",
       "      <td>0</td>\n",
       "      <td>1</td>\n",
       "      <td>4</td>\n",
       "      <td>5</td>\n",
       "      <td>20.00</td>\n",
       "    </tr>\n",
       "    <tr>\n",
       "      <th>3</th>\n",
       "      <td>April 30 2020</td>\n",
       "      <td>Moore</td>\n",
       "      <td>NC</td>\n",
       "      <td>Passenger</td>\n",
       "      <td>0</td>\n",
       "      <td>1</td>\n",
       "      <td>1</td>\n",
       "      <td>164</td>\n",
       "      <td>165</td>\n",
       "      <td>0.61</td>\n",
       "    </tr>\n",
       "    <tr>\n",
       "      <th>4</th>\n",
       "      <td>April 30 2020</td>\n",
       "      <td>Osceola</td>\n",
       "      <td>FL</td>\n",
       "      <td>Passenger</td>\n",
       "      <td>1</td>\n",
       "      <td>0</td>\n",
       "      <td>1</td>\n",
       "      <td>41</td>\n",
       "      <td>42</td>\n",
       "      <td>2.38</td>\n",
       "    </tr>\n",
       "  </tbody>\n",
       "</table>\n",
       "</div>"
      ],
      "text/plain": [
       "            Date     County State Vehicle Primary Use  \\\n",
       "0  April 30 2020      Mason    WA               Truck   \n",
       "1  April 30 2020  Middlesex    MA           Passenger   \n",
       "2  April 30 2020     Monroe    IL           Passenger   \n",
       "3  April 30 2020      Moore    NC           Passenger   \n",
       "4  April 30 2020    Osceola    FL           Passenger   \n",
       "\n",
       "   Battery Electric Vehicles (BEVs)  Plug-In Hybrid Electric Vehicles (PHEVs)  \\\n",
       "0                                 0                                         0   \n",
       "1                                 1                                         1   \n",
       "2                                 1                                         0   \n",
       "3                                 0                                         1   \n",
       "4                                 1                                         0   \n",
       "\n",
       "   Electric Vehicle (EV) Total  Non-Electric Vehicle Total  Total Vehicles  \\\n",
       "0                            0                       20531           20531   \n",
       "1                            2                         101             103   \n",
       "2                            1                           4               5   \n",
       "3                            1                         164             165   \n",
       "4                            1                          41              42   \n",
       "\n",
       "   Percent Electric Vehicles  \n",
       "0                       0.00  \n",
       "1                       1.94  \n",
       "2                      20.00  \n",
       "3                       0.61  \n",
       "4                       2.38  "
      ]
     },
     "execution_count": 41,
     "metadata": {},
     "output_type": "execute_result"
    }
   ],
   "source": [
    "# Importing the data file from the local directory\n",
    "path=os.getcwd()\n",
    "ev_file_path=path+\"\\\\Electric_Vehicle_Population_Size_History_By_County.csv\"\n",
    "# creating a dataframe for the person file \n",
    "ev_orig_df=pd.read_csv(ev_file_path)\n",
    "# Printing top 5 rows from Person Dataframe\n",
    "ev_orig_df.head()"
   ]
  },
  {
   "cell_type": "code",
   "execution_count": 42,
   "id": "4a472905",
   "metadata": {},
   "outputs": [],
   "source": [
    "# Taking a copy of the daraframe\n",
    "ev_df1=ev_orig_df.copy()\n",
    "# Renaming the columns with more descriptive names and in Upper case\n",
    "ev_df1.rename(columns={\n",
    "    \"Date\":\"DATE\",\n",
    "    \"County\":\"COUNTY\",\n",
    "    \"State\":\"STATE\",\n",
    "    \"Vehicle Primary Use\":\"PRIMARY_USE\",\n",
    "    \"Battery Electric Vehicles (BEVs)\":\"BATTERY_EV\",\n",
    "    \"Plug-In Hybrid Electric Vehicles (PHEVs)\":\"HYBRID_EV\",\n",
    "    \"Electric Vehicle (EV) Total\":\"EV_TOTAL\",\n",
    "    \"Non-Electric Vehicle Total\":\"NON_EV_TOTAL\",\n",
    "    \"Total Vehicles\":\"TOTAL_VEHICLES\",\n",
    "    \"Percent Electric Vehicles\":\"PERCENT_EV\"\n",
    "},inplace=True)\n",
    "# Dropping the rows with Nulls in them. There are not many columns with nulls. However, any column \n",
    "# with nulls can lead to misleading results.\n",
    "ev_df1=ev_df1.dropna()\n"
   ]
  },
  {
   "cell_type": "code",
   "execution_count": 43,
   "id": "428bda99",
   "metadata": {},
   "outputs": [],
   "source": [
    "# Converting the values to upper case for the columns that contains string data\n",
    "for col in ev_df1.columns:\n",
    "    if col in (\"COUNTY\",\"STATE\",\"PRIMARY_USE\"):\n",
    "        # Treating white spaces and converting data to Upper case\n",
    "        ev_df1[col]=ev_df1[col].apply(str.strip)\n",
    "        ev_df1[col]=ev_df1[col].apply(str.upper)\n",
    "    else:\n",
    "        pass"
   ]
  },
  {
   "cell_type": "code",
   "execution_count": 44,
   "id": "2faab434",
   "metadata": {},
   "outputs": [],
   "source": [
    "from datetime import datetime\n",
    "def convert_string_to_date(input_str):\n",
    "    \"\"\"\n",
    "    This function converts string back to date using strptime method\n",
    "    \"\"\"\n",
    "    return datetime.strptime(input_str,\"%B %d %Y\")\n",
    "# Applying the function to Date column \n",
    "ev_df1[\"DATE\"]=ev_df1[\"DATE\"].apply(convert_string_to_date)"
   ]
  },
  {
   "cell_type": "code",
   "execution_count": 45,
   "id": "1aa4c40c",
   "metadata": {},
   "outputs": [],
   "source": [
    "# Creating a new column in the dataframe for Year and Period data\n",
    "ev_df1[\"YEAR\"]=pd.DatetimeIndex(ev_df1[\"DATE\"]).year\n",
    "# Adding new column that contains the Quarterly Period data\n",
    "ev_df1[\"PERIOD_Q\"]=pd.DatetimeIndex(ev_df1[\"DATE\"]).to_period(\"Q-DEC\")\n",
    "# Adding new column that contains the Monthly Period data\n",
    "ev_df1[\"PERIOD_M\"]=pd.DatetimeIndex(ev_df1[\"DATE\"]).to_period(\"M\")"
   ]
  },
  {
   "cell_type": "code",
   "execution_count": 46,
   "id": "b9438fd5",
   "metadata": {},
   "outputs": [
    {
     "data": {
      "text/html": [
       "<div>\n",
       "<style scoped>\n",
       "    .dataframe tbody tr th:only-of-type {\n",
       "        vertical-align: middle;\n",
       "    }\n",
       "\n",
       "    .dataframe tbody tr th {\n",
       "        vertical-align: top;\n",
       "    }\n",
       "\n",
       "    .dataframe thead th {\n",
       "        text-align: right;\n",
       "    }\n",
       "</style>\n",
       "<table border=\"1\" class=\"dataframe\">\n",
       "  <thead>\n",
       "    <tr style=\"text-align: right;\">\n",
       "      <th></th>\n",
       "      <th>DATE</th>\n",
       "      <th>COUNTY</th>\n",
       "      <th>STATE</th>\n",
       "      <th>PRIMARY_USE</th>\n",
       "      <th>BATTERY_EV</th>\n",
       "      <th>HYBRID_EV</th>\n",
       "      <th>EV_TOTAL</th>\n",
       "      <th>NON_EV_TOTAL</th>\n",
       "      <th>TOTAL_VEHICLES</th>\n",
       "      <th>PERCENT_EV</th>\n",
       "      <th>YEAR</th>\n",
       "      <th>PERIOD_Q</th>\n",
       "      <th>PERIOD_M</th>\n",
       "    </tr>\n",
       "  </thead>\n",
       "  <tbody>\n",
       "    <tr>\n",
       "      <th>2943</th>\n",
       "      <td>2021-01-31</td>\n",
       "      <td>COLLIN</td>\n",
       "      <td>TX</td>\n",
       "      <td>PASSENGER</td>\n",
       "      <td>1</td>\n",
       "      <td>1</td>\n",
       "      <td>2</td>\n",
       "      <td>116</td>\n",
       "      <td>118</td>\n",
       "      <td>1.69</td>\n",
       "      <td>2021</td>\n",
       "      <td>2021Q1</td>\n",
       "      <td>2021-01</td>\n",
       "    </tr>\n",
       "    <tr>\n",
       "      <th>2945</th>\n",
       "      <td>2021-01-31</td>\n",
       "      <td>DALLAS</td>\n",
       "      <td>TX</td>\n",
       "      <td>PASSENGER</td>\n",
       "      <td>1</td>\n",
       "      <td>0</td>\n",
       "      <td>1</td>\n",
       "      <td>168</td>\n",
       "      <td>169</td>\n",
       "      <td>0.59</td>\n",
       "      <td>2021</td>\n",
       "      <td>2021Q1</td>\n",
       "      <td>2021-01</td>\n",
       "    </tr>\n",
       "    <tr>\n",
       "      <th>2999</th>\n",
       "      <td>2021-01-31</td>\n",
       "      <td>FORT BEND</td>\n",
       "      <td>TX</td>\n",
       "      <td>PASSENGER</td>\n",
       "      <td>1</td>\n",
       "      <td>0</td>\n",
       "      <td>1</td>\n",
       "      <td>43</td>\n",
       "      <td>44</td>\n",
       "      <td>2.27</td>\n",
       "      <td>2021</td>\n",
       "      <td>2021Q1</td>\n",
       "      <td>2021-01</td>\n",
       "    </tr>\n",
       "    <tr>\n",
       "      <th>3002</th>\n",
       "      <td>2021-01-31</td>\n",
       "      <td>HARRIS</td>\n",
       "      <td>TX</td>\n",
       "      <td>PASSENGER</td>\n",
       "      <td>1</td>\n",
       "      <td>1</td>\n",
       "      <td>2</td>\n",
       "      <td>206</td>\n",
       "      <td>208</td>\n",
       "      <td>0.96</td>\n",
       "      <td>2021</td>\n",
       "      <td>2021Q1</td>\n",
       "      <td>2021-01</td>\n",
       "    </tr>\n",
       "    <tr>\n",
       "      <th>3028</th>\n",
       "      <td>2021-01-31</td>\n",
       "      <td>LOS ANGELES</td>\n",
       "      <td>CA</td>\n",
       "      <td>PASSENGER</td>\n",
       "      <td>10</td>\n",
       "      <td>11</td>\n",
       "      <td>21</td>\n",
       "      <td>933</td>\n",
       "      <td>954</td>\n",
       "      <td>2.20</td>\n",
       "      <td>2021</td>\n",
       "      <td>2021Q1</td>\n",
       "      <td>2021-01</td>\n",
       "    </tr>\n",
       "    <tr>\n",
       "      <th>...</th>\n",
       "      <td>...</td>\n",
       "      <td>...</td>\n",
       "      <td>...</td>\n",
       "      <td>...</td>\n",
       "      <td>...</td>\n",
       "      <td>...</td>\n",
       "      <td>...</td>\n",
       "      <td>...</td>\n",
       "      <td>...</td>\n",
       "      <td>...</td>\n",
       "      <td>...</td>\n",
       "      <td>...</td>\n",
       "      <td>...</td>\n",
       "    </tr>\n",
       "    <tr>\n",
       "      <th>17051</th>\n",
       "      <td>2022-12-31</td>\n",
       "      <td>HARRIS</td>\n",
       "      <td>TX</td>\n",
       "      <td>PASSENGER</td>\n",
       "      <td>1</td>\n",
       "      <td>0</td>\n",
       "      <td>1</td>\n",
       "      <td>119</td>\n",
       "      <td>120</td>\n",
       "      <td>0.83</td>\n",
       "      <td>2022</td>\n",
       "      <td>2022Q4</td>\n",
       "      <td>2022-12</td>\n",
       "    </tr>\n",
       "    <tr>\n",
       "      <th>17139</th>\n",
       "      <td>2022-12-31</td>\n",
       "      <td>LOS ANGELES</td>\n",
       "      <td>CA</td>\n",
       "      <td>PASSENGER</td>\n",
       "      <td>5</td>\n",
       "      <td>6</td>\n",
       "      <td>11</td>\n",
       "      <td>659</td>\n",
       "      <td>670</td>\n",
       "      <td>1.64</td>\n",
       "      <td>2022</td>\n",
       "      <td>2022Q4</td>\n",
       "      <td>2022-12</td>\n",
       "    </tr>\n",
       "    <tr>\n",
       "      <th>17144</th>\n",
       "      <td>2022-12-31</td>\n",
       "      <td>NUECES</td>\n",
       "      <td>TX</td>\n",
       "      <td>PASSENGER</td>\n",
       "      <td>0</td>\n",
       "      <td>1</td>\n",
       "      <td>1</td>\n",
       "      <td>49</td>\n",
       "      <td>50</td>\n",
       "      <td>2.00</td>\n",
       "      <td>2022</td>\n",
       "      <td>2022Q4</td>\n",
       "      <td>2022-12</td>\n",
       "    </tr>\n",
       "    <tr>\n",
       "      <th>17233</th>\n",
       "      <td>2022-12-31</td>\n",
       "      <td>SAN BERNARDINO</td>\n",
       "      <td>CA</td>\n",
       "      <td>PASSENGER</td>\n",
       "      <td>1</td>\n",
       "      <td>1</td>\n",
       "      <td>2</td>\n",
       "      <td>283</td>\n",
       "      <td>285</td>\n",
       "      <td>0.70</td>\n",
       "      <td>2022</td>\n",
       "      <td>2022Q4</td>\n",
       "      <td>2022-12</td>\n",
       "    </tr>\n",
       "    <tr>\n",
       "      <th>17234</th>\n",
       "      <td>2022-12-31</td>\n",
       "      <td>SANTA CRUZ</td>\n",
       "      <td>CA</td>\n",
       "      <td>PASSENGER</td>\n",
       "      <td>1</td>\n",
       "      <td>0</td>\n",
       "      <td>1</td>\n",
       "      <td>15</td>\n",
       "      <td>16</td>\n",
       "      <td>6.25</td>\n",
       "      <td>2022</td>\n",
       "      <td>2022Q4</td>\n",
       "      <td>2022-12</td>\n",
       "    </tr>\n",
       "  </tbody>\n",
       "</table>\n",
       "<p>860 rows × 13 columns</p>\n",
       "</div>"
      ],
      "text/plain": [
       "            DATE          COUNTY STATE PRIMARY_USE  BATTERY_EV  HYBRID_EV  \\\n",
       "2943  2021-01-31          COLLIN    TX   PASSENGER           1          1   \n",
       "2945  2021-01-31          DALLAS    TX   PASSENGER           1          0   \n",
       "2999  2021-01-31       FORT BEND    TX   PASSENGER           1          0   \n",
       "3002  2021-01-31          HARRIS    TX   PASSENGER           1          1   \n",
       "3028  2021-01-31     LOS ANGELES    CA   PASSENGER          10         11   \n",
       "...          ...             ...   ...         ...         ...        ...   \n",
       "17051 2022-12-31          HARRIS    TX   PASSENGER           1          0   \n",
       "17139 2022-12-31     LOS ANGELES    CA   PASSENGER           5          6   \n",
       "17144 2022-12-31          NUECES    TX   PASSENGER           0          1   \n",
       "17233 2022-12-31  SAN BERNARDINO    CA   PASSENGER           1          1   \n",
       "17234 2022-12-31      SANTA CRUZ    CA   PASSENGER           1          0   \n",
       "\n",
       "       EV_TOTAL  NON_EV_TOTAL  TOTAL_VEHICLES  PERCENT_EV  YEAR PERIOD_Q  \\\n",
       "2943          2           116             118        1.69  2021   2021Q1   \n",
       "2945          1           168             169        0.59  2021   2021Q1   \n",
       "2999          1            43              44        2.27  2021   2021Q1   \n",
       "3002          2           206             208        0.96  2021   2021Q1   \n",
       "3028         21           933             954        2.20  2021   2021Q1   \n",
       "...         ...           ...             ...         ...   ...      ...   \n",
       "17051         1           119             120        0.83  2022   2022Q4   \n",
       "17139        11           659             670        1.64  2022   2022Q4   \n",
       "17144         1            49              50        2.00  2022   2022Q4   \n",
       "17233         2           283             285        0.70  2022   2022Q4   \n",
       "17234         1            15              16        6.25  2022   2022Q4   \n",
       "\n",
       "      PERIOD_M  \n",
       "2943   2021-01  \n",
       "2945   2021-01  \n",
       "2999   2021-01  \n",
       "3002   2021-01  \n",
       "3028   2021-01  \n",
       "...        ...  \n",
       "17051  2022-12  \n",
       "17139  2022-12  \n",
       "17144  2022-12  \n",
       "17233  2022-12  \n",
       "17234  2022-12  \n",
       "\n",
       "[860 rows x 13 columns]"
      ]
     },
     "execution_count": 46,
     "metadata": {},
     "output_type": "execute_result"
    }
   ],
   "source": [
    "# Creating new dataframe with subset of data, only including data for Texas and California\n",
    "ev_df2=ev_df1[(ev_df1[\"STATE\"].isin([\"TX\",\"CA\"])) & (ev_df1[\"YEAR\"].isin([2021,2022]))]\n",
    "ev_df2"
   ]
  },
  {
   "cell_type": "markdown",
   "id": "51109393",
   "metadata": {},
   "source": [
    "#### 4.1. Line plot using Matplotlib"
   ]
  },
  {
   "cell_type": "code",
   "execution_count": 47,
   "id": "88e62662",
   "metadata": {},
   "outputs": [
    {
     "data": {
      "text/html": [
       "<div>\n",
       "<style scoped>\n",
       "    .dataframe tbody tr th:only-of-type {\n",
       "        vertical-align: middle;\n",
       "    }\n",
       "\n",
       "    .dataframe tbody tr th {\n",
       "        vertical-align: top;\n",
       "    }\n",
       "\n",
       "    .dataframe thead th {\n",
       "        text-align: right;\n",
       "    }\n",
       "</style>\n",
       "<table border=\"1\" class=\"dataframe\">\n",
       "  <thead>\n",
       "    <tr style=\"text-align: right;\">\n",
       "      <th></th>\n",
       "      <th>STATE</th>\n",
       "      <th>PERIOD_Q</th>\n",
       "      <th>EV_TOTAL</th>\n",
       "    </tr>\n",
       "  </thead>\n",
       "  <tbody>\n",
       "    <tr>\n",
       "      <th>0</th>\n",
       "      <td>CA</td>\n",
       "      <td>2021Q1</td>\n",
       "      <td>260</td>\n",
       "    </tr>\n",
       "    <tr>\n",
       "      <th>1</th>\n",
       "      <td>CA</td>\n",
       "      <td>2021Q2</td>\n",
       "      <td>273</td>\n",
       "    </tr>\n",
       "    <tr>\n",
       "      <th>2</th>\n",
       "      <td>CA</td>\n",
       "      <td>2021Q3</td>\n",
       "      <td>278</td>\n",
       "    </tr>\n",
       "    <tr>\n",
       "      <th>3</th>\n",
       "      <td>CA</td>\n",
       "      <td>2021Q4</td>\n",
       "      <td>278</td>\n",
       "    </tr>\n",
       "    <tr>\n",
       "      <th>4</th>\n",
       "      <td>CA</td>\n",
       "      <td>2022Q1</td>\n",
       "      <td>283</td>\n",
       "    </tr>\n",
       "    <tr>\n",
       "      <th>5</th>\n",
       "      <td>CA</td>\n",
       "      <td>2022Q2</td>\n",
       "      <td>294</td>\n",
       "    </tr>\n",
       "    <tr>\n",
       "      <th>6</th>\n",
       "      <td>CA</td>\n",
       "      <td>2022Q3</td>\n",
       "      <td>305</td>\n",
       "    </tr>\n",
       "    <tr>\n",
       "      <th>7</th>\n",
       "      <td>CA</td>\n",
       "      <td>2022Q4</td>\n",
       "      <td>292</td>\n",
       "    </tr>\n",
       "    <tr>\n",
       "      <th>8</th>\n",
       "      <td>TX</td>\n",
       "      <td>2021Q1</td>\n",
       "      <td>87</td>\n",
       "    </tr>\n",
       "    <tr>\n",
       "      <th>9</th>\n",
       "      <td>TX</td>\n",
       "      <td>2021Q2</td>\n",
       "      <td>89</td>\n",
       "    </tr>\n",
       "    <tr>\n",
       "      <th>10</th>\n",
       "      <td>TX</td>\n",
       "      <td>2021Q3</td>\n",
       "      <td>93</td>\n",
       "    </tr>\n",
       "    <tr>\n",
       "      <th>11</th>\n",
       "      <td>TX</td>\n",
       "      <td>2021Q4</td>\n",
       "      <td>95</td>\n",
       "    </tr>\n",
       "    <tr>\n",
       "      <th>12</th>\n",
       "      <td>TX</td>\n",
       "      <td>2022Q1</td>\n",
       "      <td>88</td>\n",
       "    </tr>\n",
       "    <tr>\n",
       "      <th>13</th>\n",
       "      <td>TX</td>\n",
       "      <td>2022Q2</td>\n",
       "      <td>88</td>\n",
       "    </tr>\n",
       "    <tr>\n",
       "      <th>14</th>\n",
       "      <td>TX</td>\n",
       "      <td>2022Q3</td>\n",
       "      <td>84</td>\n",
       "    </tr>\n",
       "    <tr>\n",
       "      <th>15</th>\n",
       "      <td>TX</td>\n",
       "      <td>2022Q4</td>\n",
       "      <td>74</td>\n",
       "    </tr>\n",
       "  </tbody>\n",
       "</table>\n",
       "</div>"
      ],
      "text/plain": [
       "   STATE PERIOD_Q  EV_TOTAL\n",
       "0     CA   2021Q1       260\n",
       "1     CA   2021Q2       273\n",
       "2     CA   2021Q3       278\n",
       "3     CA   2021Q4       278\n",
       "4     CA   2022Q1       283\n",
       "5     CA   2022Q2       294\n",
       "6     CA   2022Q3       305\n",
       "7     CA   2022Q4       292\n",
       "8     TX   2021Q1        87\n",
       "9     TX   2021Q2        89\n",
       "10    TX   2021Q3        93\n",
       "11    TX   2021Q4        95\n",
       "12    TX   2022Q1        88\n",
       "13    TX   2022Q2        88\n",
       "14    TX   2022Q3        84\n",
       "15    TX   2022Q4        74"
      ]
     },
     "execution_count": 47,
     "metadata": {},
     "output_type": "execute_result"
    }
   ],
   "source": [
    "# Doing a GroupBy on State and Period\n",
    "ev_group1=ev_df2.groupby([\"STATE\",\"PERIOD_Q\"]).sum()[[\"EV_TOTAL\"]]\n",
    "# Resetting the Index to include the state and Period columns back in the dataframe\n",
    "ev_group1=ev_group1.reset_index()\n",
    "ev_group1[\"PERIOD_Q\"]=ev_group1[\"PERIOD_Q\"].astype(str)\n",
    "ev_group1"
   ]
  },
  {
   "cell_type": "code",
   "execution_count": 48,
   "id": "b4eccceb",
   "metadata": {},
   "outputs": [],
   "source": [
    "# Changing the style of Matplotlib\n",
    "from matplotlib import pyplot as plt\n",
    "plt.style.use('Solarize_Light2')"
   ]
  },
  {
   "cell_type": "code",
   "execution_count": 49,
   "id": "efe6e8cf",
   "metadata": {},
   "outputs": [
    {
     "data": {
      "image/png": "[encoded data removed]",
      "text/plain": [
       "<Figure size 640x480 with 1 Axes>"
      ]
     },
     "metadata": {},
     "output_type": "display_data"
    }
   ],
   "source": [
    "# Creating grouped Dataframe with results from California\n",
    "ev_group1_CA=ev_group1[ev_group1[\"STATE\"].isin([\"CA\"]) ]\n",
    "# Creating a line plot with California data\n",
    "plt.plot(ev_group1_CA[\"PERIOD_Q\"],ev_group1_CA[\"EV_TOTAL\"],label=\"California\",color=\"Red\",linestyle='--',marker=\"*\")\n",
    "# Creating grouped Dataframe with results from Texas\n",
    "ev_group1_TX=ev_group1[ev_group1[\"STATE\"].isin([\"TX\"]) ]\n",
    "# Creating a line plot with Texas data\n",
    "plt.plot(ev_group1_TX[\"PERIOD_Q\"],ev_group1_TX[\"EV_TOTAL\"],label=\"Texas\",linestyle='--',marker=\"*\")\n",
    "# Setting the Title, X and Y labels\n",
    "plt.ylim(0,400)\n",
    "plt.legend()\n",
    "plt.xticks(rotation=45)\n",
    "plt.title(\"Electric Vehicle sales in CA vs TX in 2021-22\")\n",
    "plt.xlabel(\"Quarter\")\n",
    "plt.ylabel(\"Sales\")\n",
    "plt.tight_layout()\n"
   ]
  },
  {
   "cell_type": "markdown",
   "id": "a098f893",
   "metadata": {},
   "source": [
    "#### 4.2. Bar Chart  using Matplotlib"
   ]
  },
  {
   "cell_type": "code",
   "execution_count": 50,
   "id": "631a5155",
   "metadata": {},
   "outputs": [
    {
     "data": {
      "text/html": [
       "<div>\n",
       "<style scoped>\n",
       "    .dataframe tbody tr th:only-of-type {\n",
       "        vertical-align: middle;\n",
       "    }\n",
       "\n",
       "    .dataframe tbody tr th {\n",
       "        vertical-align: top;\n",
       "    }\n",
       "\n",
       "    .dataframe thead th {\n",
       "        text-align: right;\n",
       "    }\n",
       "</style>\n",
       "<table border=\"1\" class=\"dataframe\">\n",
       "  <thead>\n",
       "    <tr style=\"text-align: right;\">\n",
       "      <th></th>\n",
       "      <th>STATE</th>\n",
       "      <th>DATE</th>\n",
       "      <th>EV_TOTAL</th>\n",
       "      <th>Month</th>\n",
       "    </tr>\n",
       "  </thead>\n",
       "  <tbody>\n",
       "    <tr>\n",
       "      <th>0</th>\n",
       "      <td>FL</td>\n",
       "      <td>2022-01-31</td>\n",
       "      <td>12</td>\n",
       "      <td>Jan</td>\n",
       "    </tr>\n",
       "    <tr>\n",
       "      <th>1</th>\n",
       "      <td>FL</td>\n",
       "      <td>2022-02-28</td>\n",
       "      <td>12</td>\n",
       "      <td>Feb</td>\n",
       "    </tr>\n",
       "    <tr>\n",
       "      <th>2</th>\n",
       "      <td>FL</td>\n",
       "      <td>2022-03-31</td>\n",
       "      <td>13</td>\n",
       "      <td>Mar</td>\n",
       "    </tr>\n",
       "    <tr>\n",
       "      <th>3</th>\n",
       "      <td>FL</td>\n",
       "      <td>2022-04-30</td>\n",
       "      <td>13</td>\n",
       "      <td>Apr</td>\n",
       "    </tr>\n",
       "    <tr>\n",
       "      <th>4</th>\n",
       "      <td>FL</td>\n",
       "      <td>2022-05-31</td>\n",
       "      <td>12</td>\n",
       "      <td>May</td>\n",
       "    </tr>\n",
       "    <tr>\n",
       "      <th>5</th>\n",
       "      <td>FL</td>\n",
       "      <td>2022-06-30</td>\n",
       "      <td>12</td>\n",
       "      <td>Jun</td>\n",
       "    </tr>\n",
       "    <tr>\n",
       "      <th>6</th>\n",
       "      <td>FL</td>\n",
       "      <td>2022-07-31</td>\n",
       "      <td>11</td>\n",
       "      <td>Jul</td>\n",
       "    </tr>\n",
       "    <tr>\n",
       "      <th>7</th>\n",
       "      <td>FL</td>\n",
       "      <td>2022-08-31</td>\n",
       "      <td>11</td>\n",
       "      <td>Aug</td>\n",
       "    </tr>\n",
       "    <tr>\n",
       "      <th>8</th>\n",
       "      <td>FL</td>\n",
       "      <td>2022-09-30</td>\n",
       "      <td>9</td>\n",
       "      <td>Sep</td>\n",
       "    </tr>\n",
       "    <tr>\n",
       "      <th>9</th>\n",
       "      <td>FL</td>\n",
       "      <td>2022-10-31</td>\n",
       "      <td>9</td>\n",
       "      <td>Oct</td>\n",
       "    </tr>\n",
       "    <tr>\n",
       "      <th>10</th>\n",
       "      <td>FL</td>\n",
       "      <td>2022-11-30</td>\n",
       "      <td>8</td>\n",
       "      <td>Nov</td>\n",
       "    </tr>\n",
       "    <tr>\n",
       "      <th>11</th>\n",
       "      <td>FL</td>\n",
       "      <td>2022-12-31</td>\n",
       "      <td>7</td>\n",
       "      <td>Dec</td>\n",
       "    </tr>\n",
       "    <tr>\n",
       "      <th>12</th>\n",
       "      <td>IL</td>\n",
       "      <td>2022-01-31</td>\n",
       "      <td>9</td>\n",
       "      <td>Jan</td>\n",
       "    </tr>\n",
       "    <tr>\n",
       "      <th>13</th>\n",
       "      <td>IL</td>\n",
       "      <td>2022-02-28</td>\n",
       "      <td>10</td>\n",
       "      <td>Feb</td>\n",
       "    </tr>\n",
       "    <tr>\n",
       "      <th>14</th>\n",
       "      <td>IL</td>\n",
       "      <td>2022-03-31</td>\n",
       "      <td>10</td>\n",
       "      <td>Mar</td>\n",
       "    </tr>\n",
       "    <tr>\n",
       "      <th>15</th>\n",
       "      <td>IL</td>\n",
       "      <td>2022-04-30</td>\n",
       "      <td>10</td>\n",
       "      <td>Apr</td>\n",
       "    </tr>\n",
       "    <tr>\n",
       "      <th>16</th>\n",
       "      <td>IL</td>\n",
       "      <td>2022-05-31</td>\n",
       "      <td>10</td>\n",
       "      <td>May</td>\n",
       "    </tr>\n",
       "    <tr>\n",
       "      <th>17</th>\n",
       "      <td>IL</td>\n",
       "      <td>2022-06-30</td>\n",
       "      <td>8</td>\n",
       "      <td>Jun</td>\n",
       "    </tr>\n",
       "    <tr>\n",
       "      <th>18</th>\n",
       "      <td>IL</td>\n",
       "      <td>2022-07-31</td>\n",
       "      <td>7</td>\n",
       "      <td>Jul</td>\n",
       "    </tr>\n",
       "    <tr>\n",
       "      <th>19</th>\n",
       "      <td>IL</td>\n",
       "      <td>2022-08-31</td>\n",
       "      <td>7</td>\n",
       "      <td>Aug</td>\n",
       "    </tr>\n",
       "    <tr>\n",
       "      <th>20</th>\n",
       "      <td>IL</td>\n",
       "      <td>2022-09-30</td>\n",
       "      <td>7</td>\n",
       "      <td>Sep</td>\n",
       "    </tr>\n",
       "    <tr>\n",
       "      <th>21</th>\n",
       "      <td>IL</td>\n",
       "      <td>2022-10-31</td>\n",
       "      <td>7</td>\n",
       "      <td>Oct</td>\n",
       "    </tr>\n",
       "    <tr>\n",
       "      <th>22</th>\n",
       "      <td>IL</td>\n",
       "      <td>2022-11-30</td>\n",
       "      <td>7</td>\n",
       "      <td>Nov</td>\n",
       "    </tr>\n",
       "    <tr>\n",
       "      <th>23</th>\n",
       "      <td>IL</td>\n",
       "      <td>2022-12-31</td>\n",
       "      <td>7</td>\n",
       "      <td>Dec</td>\n",
       "    </tr>\n",
       "    <tr>\n",
       "      <th>24</th>\n",
       "      <td>NY</td>\n",
       "      <td>2022-01-31</td>\n",
       "      <td>10</td>\n",
       "      <td>Jan</td>\n",
       "    </tr>\n",
       "    <tr>\n",
       "      <th>25</th>\n",
       "      <td>NY</td>\n",
       "      <td>2022-02-28</td>\n",
       "      <td>10</td>\n",
       "      <td>Feb</td>\n",
       "    </tr>\n",
       "    <tr>\n",
       "      <th>26</th>\n",
       "      <td>NY</td>\n",
       "      <td>2022-03-31</td>\n",
       "      <td>9</td>\n",
       "      <td>Mar</td>\n",
       "    </tr>\n",
       "    <tr>\n",
       "      <th>27</th>\n",
       "      <td>NY</td>\n",
       "      <td>2022-04-30</td>\n",
       "      <td>9</td>\n",
       "      <td>Apr</td>\n",
       "    </tr>\n",
       "    <tr>\n",
       "      <th>28</th>\n",
       "      <td>NY</td>\n",
       "      <td>2022-05-31</td>\n",
       "      <td>9</td>\n",
       "      <td>May</td>\n",
       "    </tr>\n",
       "    <tr>\n",
       "      <th>29</th>\n",
       "      <td>NY</td>\n",
       "      <td>2022-06-30</td>\n",
       "      <td>7</td>\n",
       "      <td>Jun</td>\n",
       "    </tr>\n",
       "    <tr>\n",
       "      <th>30</th>\n",
       "      <td>NY</td>\n",
       "      <td>2022-07-31</td>\n",
       "      <td>7</td>\n",
       "      <td>Jul</td>\n",
       "    </tr>\n",
       "    <tr>\n",
       "      <th>31</th>\n",
       "      <td>NY</td>\n",
       "      <td>2022-08-31</td>\n",
       "      <td>7</td>\n",
       "      <td>Aug</td>\n",
       "    </tr>\n",
       "    <tr>\n",
       "      <th>32</th>\n",
       "      <td>NY</td>\n",
       "      <td>2022-09-30</td>\n",
       "      <td>6</td>\n",
       "      <td>Sep</td>\n",
       "    </tr>\n",
       "    <tr>\n",
       "      <th>33</th>\n",
       "      <td>NY</td>\n",
       "      <td>2022-10-31</td>\n",
       "      <td>6</td>\n",
       "      <td>Oct</td>\n",
       "    </tr>\n",
       "    <tr>\n",
       "      <th>34</th>\n",
       "      <td>NY</td>\n",
       "      <td>2022-11-30</td>\n",
       "      <td>6</td>\n",
       "      <td>Nov</td>\n",
       "    </tr>\n",
       "    <tr>\n",
       "      <th>35</th>\n",
       "      <td>NY</td>\n",
       "      <td>2022-12-31</td>\n",
       "      <td>7</td>\n",
       "      <td>Dec</td>\n",
       "    </tr>\n",
       "  </tbody>\n",
       "</table>\n",
       "</div>"
      ],
      "text/plain": [
       "   STATE       DATE  EV_TOTAL Month\n",
       "0     FL 2022-01-31        12   Jan\n",
       "1     FL 2022-02-28        12   Feb\n",
       "2     FL 2022-03-31        13   Mar\n",
       "3     FL 2022-04-30        13   Apr\n",
       "4     FL 2022-05-31        12   May\n",
       "5     FL 2022-06-30        12   Jun\n",
       "6     FL 2022-07-31        11   Jul\n",
       "7     FL 2022-08-31        11   Aug\n",
       "8     FL 2022-09-30         9   Sep\n",
       "9     FL 2022-10-31         9   Oct\n",
       "10    FL 2022-11-30         8   Nov\n",
       "11    FL 2022-12-31         7   Dec\n",
       "12    IL 2022-01-31         9   Jan\n",
       "13    IL 2022-02-28        10   Feb\n",
       "14    IL 2022-03-31        10   Mar\n",
       "15    IL 2022-04-30        10   Apr\n",
       "16    IL 2022-05-31        10   May\n",
       "17    IL 2022-06-30         8   Jun\n",
       "18    IL 2022-07-31         7   Jul\n",
       "19    IL 2022-08-31         7   Aug\n",
       "20    IL 2022-09-30         7   Sep\n",
       "21    IL 2022-10-31         7   Oct\n",
       "22    IL 2022-11-30         7   Nov\n",
       "23    IL 2022-12-31         7   Dec\n",
       "24    NY 2022-01-31        10   Jan\n",
       "25    NY 2022-02-28        10   Feb\n",
       "26    NY 2022-03-31         9   Mar\n",
       "27    NY 2022-04-30         9   Apr\n",
       "28    NY 2022-05-31         9   May\n",
       "29    NY 2022-06-30         7   Jun\n",
       "30    NY 2022-07-31         7   Jul\n",
       "31    NY 2022-08-31         7   Aug\n",
       "32    NY 2022-09-30         6   Sep\n",
       "33    NY 2022-10-31         6   Oct\n",
       "34    NY 2022-11-30         6   Nov\n",
       "35    NY 2022-12-31         7   Dec"
      ]
     },
     "execution_count": 50,
     "metadata": {},
     "output_type": "execute_result"
    }
   ],
   "source": [
    "# Creating a new dataframe subset by restricting results to NewYork, Florida and Illinois for the year 2022\n",
    "ev_df3=ev_df1[(ev_df1[\"STATE\"].isin([\"NY\",\"FL\",\"IL\"])) & (ev_df1[\"YEAR\"].isin([2022]))]\n",
    "# Doing a group by on State and Date\n",
    "ev_group2=ev_df3.groupby([\"STATE\",\"DATE\"]).sum()[[\"EV_TOTAL\"]]\n",
    "# Resetting the Index to include the state and Date columns back in the dataframe\n",
    "ev_group2=ev_group2.reset_index()\n",
    "# Adding a new column Month to include the Month Data\n",
    "ev_group2[\"Month\"]=pd.to_datetime(ev_group2[\"DATE\"]).dt.strftime('%b')\n",
    "ev_group2"
   ]
  },
  {
   "cell_type": "code",
   "execution_count": 51,
   "id": "68493de9",
   "metadata": {},
   "outputs": [],
   "source": [
    "# Collecting the data for NewYork,Illinois and Florida in new subset Dataframes\n",
    "ev_group2_NY=ev_group2[ev_group2[\"STATE\"].isin([\"NY\"]) ]\n",
    "ev_group2_IL=ev_group2[ev_group2[\"STATE\"].isin([\"IL\"]) ]\n",
    "ev_group2_FL=ev_group2[ev_group2[\"STATE\"].isin([\"FL\"]) ]\n",
    "# Creating Indexes variable that will be used as X-Label in the Bar chart. The indexes list \n",
    "# contains the same number of elemnents as the Month column\n",
    "x_indexes=np.arange(len(ev_group2_FL[\"Month\"]))"
   ]
  },
  {
   "cell_type": "code",
   "execution_count": 52,
   "id": "8cb68022",
   "metadata": {},
   "outputs": [
    {
     "data": {
      "image/png": "[encoded data removed]",
      "text/plain": [
       "<Figure size 640x480 with 1 Axes>"
      ]
     },
     "metadata": {},
     "output_type": "display_data"
    }
   ],
   "source": [
    "# Assigning default width for each bar in the Barchart\n",
    "width=0.25\n",
    "# Plotting BarChart for each state data. The Value of the Xindexes are adjusted by using the Width \n",
    "plt.bar(x_indexes-width,ev_group2_NY[\"EV_TOTAL\"],width=width,color=\"#e5ae37\",label=\"NewYork\")\n",
    "plt.bar(x_indexes,ev_group2_IL[\"EV_TOTAL\"],width=width,color=\"#6d904f\",label=\"Illinois\")\n",
    "# The xindexes are adjusted according to the width of the Bar chart\n",
    "plt.bar(x_indexes+width,ev_group2_FL[\"EV_TOTAL\"],width=width,color=\"#fc4f30\",label=\"Florida\")\n",
    "plt.legend()\n",
    "# The x-ticks will have values of x_indexes with label values as Month.\n",
    "plt.xticks(ticks=x_indexes,labels=ev_group2_FL[\"Month\"])\n",
    "# Setting the Title, X and Y labels \n",
    "plt.ylim(0,25)\n",
    "plt.legend()\n",
    "plt.xticks(rotation=45)\n",
    "plt.title(\"Electric Vehicle sales in NY,IL & FL in 2022\")\n",
    "plt.ylabel(\"Sales\")\n",
    "plt.tight_layout()\n",
    "plt.show()"
   ]
  },
  {
   "cell_type": "markdown",
   "id": "2615491c",
   "metadata": {},
   "source": [
    "#### 4.3. Pie Chart"
   ]
  },
  {
   "cell_type": "code",
   "execution_count": 53,
   "id": "dc984936",
   "metadata": {},
   "outputs": [
    {
     "data": {
      "text/html": [
       "<div>\n",
       "<style scoped>\n",
       "    .dataframe tbody tr th:only-of-type {\n",
       "        vertical-align: middle;\n",
       "    }\n",
       "\n",
       "    .dataframe tbody tr th {\n",
       "        vertical-align: top;\n",
       "    }\n",
       "\n",
       "    .dataframe thead th {\n",
       "        text-align: right;\n",
       "    }\n",
       "</style>\n",
       "<table border=\"1\" class=\"dataframe\">\n",
       "  <thead>\n",
       "    <tr style=\"text-align: right;\">\n",
       "      <th></th>\n",
       "      <th>STATE</th>\n",
       "      <th>EV_TOTAL</th>\n",
       "    </tr>\n",
       "  </thead>\n",
       "  <tbody>\n",
       "    <tr>\n",
       "      <th>0</th>\n",
       "      <td>CA</td>\n",
       "      <td>1174</td>\n",
       "    </tr>\n",
       "    <tr>\n",
       "      <th>1</th>\n",
       "      <td>VA</td>\n",
       "      <td>502</td>\n",
       "    </tr>\n",
       "    <tr>\n",
       "      <th>2</th>\n",
       "      <td>MD</td>\n",
       "      <td>347</td>\n",
       "    </tr>\n",
       "    <tr>\n",
       "      <th>3</th>\n",
       "      <td>TX</td>\n",
       "      <td>334</td>\n",
       "    </tr>\n",
       "    <tr>\n",
       "      <th>4</th>\n",
       "      <td>FL</td>\n",
       "      <td>129</td>\n",
       "    </tr>\n",
       "    <tr>\n",
       "      <th>5</th>\n",
       "      <td>NC</td>\n",
       "      <td>124</td>\n",
       "    </tr>\n",
       "  </tbody>\n",
       "</table>\n",
       "</div>"
      ],
      "text/plain": [
       "  STATE  EV_TOTAL\n",
       "0    CA      1174\n",
       "1    VA       502\n",
       "2    MD       347\n",
       "3    TX       334\n",
       "4    FL       129\n",
       "5    NC       124"
      ]
     },
     "execution_count": 53,
     "metadata": {},
     "output_type": "execute_result"
    }
   ],
   "source": [
    "# Creating another subset dataframe by excluding the data from Washington state which are Outliers with extreme values\n",
    "ev_df4=ev_df1[(ev_df1[\"YEAR\"].isin([2022])) & (~ev_df1[\"STATE\"].isin([\"WA\"]))]\n",
    "# Grouping the dataframe data by State and getting the Total number of Electric vehicles sold by state\n",
    "ev_group3=ev_df4.groupby([\"STATE\"]).sum()[[\"EV_TOTAL\"]].sort_values(by=[\"EV_TOTAL\"],ascending=False)\n",
    "# Resetting the indexes to include the groupby columns in the Dataframe\n",
    "ev_group3=ev_group3.reset_index()\n",
    "# Taking the top 6 states with highest EV sales in 2022\n",
    "ev_group4=ev_group3[:6]\n",
    "ev_group4"
   ]
  },
  {
   "cell_type": "code",
   "execution_count": 54,
   "id": "868844ff",
   "metadata": {},
   "outputs": [
    {
     "data": {
      "text/plain": [
       "<Figure size 2000x1500 with 0 Axes>"
      ]
     },
     "execution_count": 54,
     "metadata": {},
     "output_type": "execute_result"
    },
    {
     "data": {
      "image/png": "[encoded data removed]",
      "text/plain": [
       "<Figure size 640x480 with 1 Axes>"
      ]
     },
     "metadata": {},
     "output_type": "display_data"
    },
    {
     "data": {
      "text/plain": [
       "<Figure size 2000x1500 with 0 Axes>"
      ]
     },
     "metadata": {},
     "output_type": "display_data"
    }
   ],
   "source": [
    "# Explode property of pie chart is used to explode the data of California\n",
    "explode=[0.1,0,0,0,0,0]\n",
    "# Constructing the Pie Plot to show the Top EV sales by states in 2022\n",
    "plt.pie(ev_group4[\"EV_TOTAL\"],labels=ev_group4[\"STATE\"],explode=explode,shadow=True, startangle=30,\n",
    "        autopct=\"%1.1f%%\",wedgeprops={'edgecolor':'black'})\n",
    "plt.title(\"Top EV Sales in 2022\")\n",
    "plt.figure(figsize=(20, 15))"
   ]
  },
  {
   "cell_type": "markdown",
   "id": "966b2749",
   "metadata": {},
   "source": [
    "#### 4.4. Histogram"
   ]
  },
  {
   "cell_type": "code",
   "execution_count": 55,
   "id": "8296f21c",
   "metadata": {},
   "outputs": [
    {
     "name": "stdout",
     "output_type": "stream",
     "text": [
      "The Median of EV Sales in the US excluding the top 4 states is 32.5\n"
     ]
    },
    {
     "data": {
      "text/html": [
       "<div>\n",
       "<style scoped>\n",
       "    .dataframe tbody tr th:only-of-type {\n",
       "        vertical-align: middle;\n",
       "    }\n",
       "\n",
       "    .dataframe tbody tr th {\n",
       "        vertical-align: top;\n",
       "    }\n",
       "\n",
       "    .dataframe thead th {\n",
       "        text-align: right;\n",
       "    }\n",
       "</style>\n",
       "<table border=\"1\" class=\"dataframe\">\n",
       "  <thead>\n",
       "    <tr style=\"text-align: right;\">\n",
       "      <th></th>\n",
       "      <th>STATE</th>\n",
       "      <th>EV_TOTAL</th>\n",
       "    </tr>\n",
       "  </thead>\n",
       "  <tbody>\n",
       "    <tr>\n",
       "      <th>4</th>\n",
       "      <td>FL</td>\n",
       "      <td>129</td>\n",
       "    </tr>\n",
       "    <tr>\n",
       "      <th>5</th>\n",
       "      <td>NC</td>\n",
       "      <td>124</td>\n",
       "    </tr>\n",
       "    <tr>\n",
       "      <th>6</th>\n",
       "      <td>HI</td>\n",
       "      <td>114</td>\n",
       "    </tr>\n",
       "    <tr>\n",
       "      <th>7</th>\n",
       "      <td>AZ</td>\n",
       "      <td>112</td>\n",
       "    </tr>\n",
       "    <tr>\n",
       "      <th>8</th>\n",
       "      <td>CO</td>\n",
       "      <td>111</td>\n",
       "    </tr>\n",
       "    <tr>\n",
       "      <th>9</th>\n",
       "      <td>OR</td>\n",
       "      <td>105</td>\n",
       "    </tr>\n",
       "    <tr>\n",
       "      <th>10</th>\n",
       "      <td>IL</td>\n",
       "      <td>99</td>\n",
       "    </tr>\n",
       "    <tr>\n",
       "      <th>11</th>\n",
       "      <td>CT</td>\n",
       "      <td>99</td>\n",
       "    </tr>\n",
       "    <tr>\n",
       "      <th>12</th>\n",
       "      <td>SC</td>\n",
       "      <td>98</td>\n",
       "    </tr>\n",
       "    <tr>\n",
       "      <th>13</th>\n",
       "      <td>NY</td>\n",
       "      <td>93</td>\n",
       "    </tr>\n",
       "    <tr>\n",
       "      <th>14</th>\n",
       "      <td>NV</td>\n",
       "      <td>91</td>\n",
       "    </tr>\n",
       "    <tr>\n",
       "      <th>15</th>\n",
       "      <td>GA</td>\n",
       "      <td>90</td>\n",
       "    </tr>\n",
       "    <tr>\n",
       "      <th>16</th>\n",
       "      <td>NJ</td>\n",
       "      <td>79</td>\n",
       "    </tr>\n",
       "    <tr>\n",
       "      <th>17</th>\n",
       "      <td>KS</td>\n",
       "      <td>60</td>\n",
       "    </tr>\n",
       "    <tr>\n",
       "      <th>18</th>\n",
       "      <td>PA</td>\n",
       "      <td>56</td>\n",
       "    </tr>\n",
       "    <tr>\n",
       "      <th>19</th>\n",
       "      <td>NE</td>\n",
       "      <td>51</td>\n",
       "    </tr>\n",
       "    <tr>\n",
       "      <th>20</th>\n",
       "      <td>DC</td>\n",
       "      <td>51</td>\n",
       "    </tr>\n",
       "    <tr>\n",
       "      <th>21</th>\n",
       "      <td>MO</td>\n",
       "      <td>49</td>\n",
       "    </tr>\n",
       "    <tr>\n",
       "      <th>22</th>\n",
       "      <td>MA</td>\n",
       "      <td>37</td>\n",
       "    </tr>\n",
       "    <tr>\n",
       "      <th>23</th>\n",
       "      <td>UT</td>\n",
       "      <td>35</td>\n",
       "    </tr>\n",
       "  </tbody>\n",
       "</table>\n",
       "</div>"
      ],
      "text/plain": [
       "   STATE  EV_TOTAL\n",
       "4     FL       129\n",
       "5     NC       124\n",
       "6     HI       114\n",
       "7     AZ       112\n",
       "8     CO       111\n",
       "9     OR       105\n",
       "10    IL        99\n",
       "11    CT        99\n",
       "12    SC        98\n",
       "13    NY        93\n",
       "14    NV        91\n",
       "15    GA        90\n",
       "16    NJ        79\n",
       "17    KS        60\n",
       "18    PA        56\n",
       "19    NE        51\n",
       "20    DC        51\n",
       "21    MO        49\n",
       "22    MA        37\n",
       "23    UT        35"
      ]
     },
     "execution_count": 55,
     "metadata": {},
     "output_type": "execute_result"
    }
   ],
   "source": [
    "# Histogram to show the EV sales in most of the US states excluding the top 4 which are already discussed\n",
    "ev_group5=ev_group3[4:]\n",
    "# Calculating the median sales in EV excluding the top 4 states\n",
    "ev_median=ev_group5[\"EV_TOTAL\"].median()\n",
    "print(f\"The Median of EV Sales in the US excluding the top 4 states is {ev_median}\")\n",
    "ev_sales=ev_group5[\"EV_TOTAL\"]\n",
    "ev_group5[:20]"
   ]
  },
  {
   "cell_type": "code",
   "execution_count": 56,
   "id": "cdb165f2",
   "metadata": {},
   "outputs": [
    {
     "data": {
      "image/png": "[encoded data removed]",
      "text/plain": [
       "<Figure size 640x480 with 1 Axes>"
      ]
     },
     "metadata": {},
     "output_type": "display_data"
    }
   ],
   "source": [
    "# Creating Histogram for representing the EV sales\n",
    "bins=[1,20,40,60,80,100,120,140,160]\n",
    "plt.hist(ev_sales,bins=bins,edgecolor=\"black\",color=\"orange\")\n",
    "# Creating axis line for the median sales\n",
    "plt.axvline(ev_median, color=\"#fc4f30\", label='EV Median Sales', linewidth=2)\n",
    "plt.xlim(0,150)\n",
    "plt.legend()\n",
    "plt.title('EV Sales in 2022 (excludes CA,VA,MD,TX)')\n",
    "plt.xlabel('Sales numbers')\n",
    "plt.ylabel('Number of States')\n",
    "plt.tight_layout()"
   ]
  },
  {
   "cell_type": "markdown",
   "id": "0a7d7c7f",
   "metadata": {},
   "source": []
  }
 ],
 "metadata": {
  "kernelspec": {
   "display_name": "Python 3 (ipykernel)",
   "language": "python",
   "name": "python3"
  },
  "language_info": {
   "codemirror_mode": {
    "name": "ipython",
    "version": 3
   },
   "file_extension": ".py",
   "mimetype": "text/x-python",
   "name": "python",
   "nbconvert_exporter": "python",
   "pygments_lexer": "ipython3",
   "version": "3.9.13"
  },
  "toc": {
   "base_numbering": 1,
   "nav_menu": {},
   "number_sections": false,
   "sideBar": true,
   "skip_h1_title": true,
   "title_cell": "Table of Contents",
   "title_sidebar": "Contents",
   "toc_cell": true,
   "toc_position": {
    "height": "calc(100% - 180px)",
    "left": "10px",
    "top": "150px",
    "width": "384px"
   },
   "toc_section_display": true,
   "toc_window_display": true
  }
 },
 "nbformat": 4,
 "nbformat_minor": 5
}
